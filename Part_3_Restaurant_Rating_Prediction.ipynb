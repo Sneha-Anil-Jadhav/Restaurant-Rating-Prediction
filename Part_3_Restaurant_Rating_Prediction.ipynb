{
  "nbformat": 4,
  "nbformat_minor": 0,
  "metadata": {
    "colab": {
      "name": "Part_3_Restaurant_Rating_Prediction.ipynb",
      "provenance": [],
      "collapsed_sections": []
    },
    "kernelspec": {
      "display_name": "Python 3",
      "name": "python3"
    },
    "language_info": {
      "name": "python"
    }
  },
  "cells": [
    {
      "cell_type": "markdown",
      "metadata": {
        "id": "wQP58gFacYG5"
      },
      "source": [
        "Mount The Required Data"
      ]
    },
    {
      "cell_type": "code",
      "metadata": {
        "colab": {
          "base_uri": "https://localhost:8080/"
        },
        "id": "JKT1Xp7iC04k",
        "outputId": "1b58144d-3c2f-4fd8-b0c8-e77359536f6b"
      },
      "source": [
        "from google.colab import drive\n",
        "drive.mount('/content/drive')"
      ],
      "execution_count": null,
      "outputs": [
        {
          "output_type": "stream",
          "name": "stdout",
          "text": [
            "Drive already mounted at /content/drive; to attempt to forcibly remount, call drive.mount(\"/content/drive\", force_remount=True).\n"
          ]
        }
      ]
    },
    {
      "cell_type": "markdown",
      "metadata": {
        "id": "uEu7Cw0Mcgx6"
      },
      "source": [
        "Import all the necessary libraries "
      ]
    },
    {
      "cell_type": "code",
      "metadata": {
        "id": "xUnn0osjC5Jw"
      },
      "source": [
        "import pandas as pd\n",
        "import numpy as np\n",
        "import matplotlib.pyplot as plt\n",
        "import seaborn as sns\n",
        "import ast\n",
        "\n",
        "from wordcloud import WordCloud, STOPWORDS\n",
        "\n",
        "\n",
        "from joblib import dump,load\n",
        "#%matplotlib notebook\n",
        "%matplotlib inline\n",
        "\n",
        "import warnings\n",
        "warnings.filterwarnings('ignore')\n",
        "\n",
        "from sklearn.linear_model import LinearRegression\n",
        "from sklearn import linear_model\n",
        "from sklearn.ensemble import RandomForestRegressor\n",
        "from sklearn.preprocessing import OneHotEncoder\n",
        "from sklearn.model_selection import train_test_split\n",
        "from sklearn.metrics import  make_scorer\n",
        "from sklearn.model_selection import GridSearchCV\n",
        "from sklearn import metrics\n",
        "\n",
        "import random\n",
        "from xgboost import XGBClassifier\n",
        "from sklearn.ensemble import RandomForestRegressor\n",
        "from nltk.corpus import stopwords"
      ],
      "execution_count": null,
      "outputs": []
    },
    {
      "cell_type": "markdown",
      "metadata": {
        "id": "Exh5ILarclpW"
      },
      "source": [
        "Read CSV File"
      ]
    },
    {
      "cell_type": "code",
      "metadata": {
        "id": "0i4AEDFPDGuH"
      },
      "source": [
        "df = pd.read_csv(\"/content/drive/MyDrive/Restaurant Rating Prediction/zomato.csv\",nrows=20000)"
      ],
      "execution_count": null,
      "outputs": []
    },
    {
      "cell_type": "markdown",
      "metadata": {
        "id": "VYWTzOoqYhu7"
      },
      "source": [
        "Overview of Data"
      ]
    },
    {
      "cell_type": "code",
      "metadata": {
        "colab": {
          "base_uri": "https://localhost:8080/",
          "height": 1000
        },
        "id": "OnojmiwvDR-L",
        "outputId": "694a8142-4522-4c98-c930-d384e3d3fc14"
      },
      "source": [
        "df"
      ],
      "execution_count": null,
      "outputs": [
        {
          "output_type": "execute_result",
          "data": {
            "text/html": [
              "<div>\n",
              "<style scoped>\n",
              "    .dataframe tbody tr th:only-of-type {\n",
              "        vertical-align: middle;\n",
              "    }\n",
              "\n",
              "    .dataframe tbody tr th {\n",
              "        vertical-align: top;\n",
              "    }\n",
              "\n",
              "    .dataframe thead th {\n",
              "        text-align: right;\n",
              "    }\n",
              "</style>\n",
              "<table border=\"1\" class=\"dataframe\">\n",
              "  <thead>\n",
              "    <tr style=\"text-align: right;\">\n",
              "      <th></th>\n",
              "      <th>url</th>\n",
              "      <th>address</th>\n",
              "      <th>name</th>\n",
              "      <th>online_order</th>\n",
              "      <th>book_table</th>\n",
              "      <th>rate</th>\n",
              "      <th>votes</th>\n",
              "      <th>phone</th>\n",
              "      <th>location</th>\n",
              "      <th>rest_type</th>\n",
              "      <th>dish_liked</th>\n",
              "      <th>cuisines</th>\n",
              "      <th>approx_cost(for two people)</th>\n",
              "      <th>reviews_list</th>\n",
              "      <th>menu_item</th>\n",
              "      <th>listed_in(type)</th>\n",
              "      <th>listed_in(city)</th>\n",
              "    </tr>\n",
              "  </thead>\n",
              "  <tbody>\n",
              "    <tr>\n",
              "      <th>0</th>\n",
              "      <td>https://www.zomato.com/bangalore/jalsa-banasha...</td>\n",
              "      <td>942, 21st Main Road, 2nd Stage, Banashankari, ...</td>\n",
              "      <td>Jalsa</td>\n",
              "      <td>Yes</td>\n",
              "      <td>Yes</td>\n",
              "      <td>4.1/5</td>\n",
              "      <td>775</td>\n",
              "      <td>080 42297555\\r\\n+91 9743772233</td>\n",
              "      <td>Banashankari</td>\n",
              "      <td>Casual Dining</td>\n",
              "      <td>Pasta, Lunch Buffet, Masala Papad, Paneer Laja...</td>\n",
              "      <td>North Indian, Mughlai, Chinese</td>\n",
              "      <td>800</td>\n",
              "      <td>[('Rated 4.0', 'RATED\\n  A beautiful place to ...</td>\n",
              "      <td>[]</td>\n",
              "      <td>Buffet</td>\n",
              "      <td>Banashankari</td>\n",
              "    </tr>\n",
              "    <tr>\n",
              "      <th>1</th>\n",
              "      <td>https://www.zomato.com/bangalore/spice-elephan...</td>\n",
              "      <td>2nd Floor, 80 Feet Road, Near Big Bazaar, 6th ...</td>\n",
              "      <td>Spice Elephant</td>\n",
              "      <td>Yes</td>\n",
              "      <td>No</td>\n",
              "      <td>4.1/5</td>\n",
              "      <td>787</td>\n",
              "      <td>080 41714161</td>\n",
              "      <td>Banashankari</td>\n",
              "      <td>Casual Dining</td>\n",
              "      <td>Momos, Lunch Buffet, Chocolate Nirvana, Thai G...</td>\n",
              "      <td>Chinese, North Indian, Thai</td>\n",
              "      <td>800</td>\n",
              "      <td>[('Rated 4.0', 'RATED\\n  Had been here for din...</td>\n",
              "      <td>[]</td>\n",
              "      <td>Buffet</td>\n",
              "      <td>Banashankari</td>\n",
              "    </tr>\n",
              "    <tr>\n",
              "      <th>2</th>\n",
              "      <td>https://www.zomato.com/SanchurroBangalore?cont...</td>\n",
              "      <td>1112, Next to KIMS Medical College, 17th Cross...</td>\n",
              "      <td>San Churro Cafe</td>\n",
              "      <td>Yes</td>\n",
              "      <td>No</td>\n",
              "      <td>3.8/5</td>\n",
              "      <td>918</td>\n",
              "      <td>+91 9663487993</td>\n",
              "      <td>Banashankari</td>\n",
              "      <td>Cafe, Casual Dining</td>\n",
              "      <td>Churros, Cannelloni, Minestrone Soup, Hot Choc...</td>\n",
              "      <td>Cafe, Mexican, Italian</td>\n",
              "      <td>800</td>\n",
              "      <td>[('Rated 3.0', \"RATED\\n  Ambience is not that ...</td>\n",
              "      <td>[]</td>\n",
              "      <td>Buffet</td>\n",
              "      <td>Banashankari</td>\n",
              "    </tr>\n",
              "    <tr>\n",
              "      <th>3</th>\n",
              "      <td>https://www.zomato.com/bangalore/addhuri-udupi...</td>\n",
              "      <td>1st Floor, Annakuteera, 3rd Stage, Banashankar...</td>\n",
              "      <td>Addhuri Udupi Bhojana</td>\n",
              "      <td>No</td>\n",
              "      <td>No</td>\n",
              "      <td>3.7/5</td>\n",
              "      <td>88</td>\n",
              "      <td>+91 9620009302</td>\n",
              "      <td>Banashankari</td>\n",
              "      <td>Quick Bites</td>\n",
              "      <td>Masala Dosa</td>\n",
              "      <td>South Indian, North Indian</td>\n",
              "      <td>300</td>\n",
              "      <td>[('Rated 4.0', \"RATED\\n  Great food and proper...</td>\n",
              "      <td>[]</td>\n",
              "      <td>Buffet</td>\n",
              "      <td>Banashankari</td>\n",
              "    </tr>\n",
              "    <tr>\n",
              "      <th>4</th>\n",
              "      <td>https://www.zomato.com/bangalore/grand-village...</td>\n",
              "      <td>10, 3rd Floor, Lakshmi Associates, Gandhi Baza...</td>\n",
              "      <td>Grand Village</td>\n",
              "      <td>No</td>\n",
              "      <td>No</td>\n",
              "      <td>3.8/5</td>\n",
              "      <td>166</td>\n",
              "      <td>+91 8026612447\\r\\n+91 9901210005</td>\n",
              "      <td>Basavanagudi</td>\n",
              "      <td>Casual Dining</td>\n",
              "      <td>Panipuri, Gol Gappe</td>\n",
              "      <td>North Indian, Rajasthani</td>\n",
              "      <td>600</td>\n",
              "      <td>[('Rated 4.0', 'RATED\\n  Very good restaurant ...</td>\n",
              "      <td>[]</td>\n",
              "      <td>Buffet</td>\n",
              "      <td>Banashankari</td>\n",
              "    </tr>\n",
              "    <tr>\n",
              "      <th>...</th>\n",
              "      <td>...</td>\n",
              "      <td>...</td>\n",
              "      <td>...</td>\n",
              "      <td>...</td>\n",
              "      <td>...</td>\n",
              "      <td>...</td>\n",
              "      <td>...</td>\n",
              "      <td>...</td>\n",
              "      <td>...</td>\n",
              "      <td>...</td>\n",
              "      <td>...</td>\n",
              "      <td>...</td>\n",
              "      <td>...</td>\n",
              "      <td>...</td>\n",
              "      <td>...</td>\n",
              "      <td>...</td>\n",
              "      <td>...</td>\n",
              "    </tr>\n",
              "    <tr>\n",
              "      <th>19995</th>\n",
              "      <td>https://www.zomato.com/bangalore/mudpipe-cafe-...</td>\n",
              "      <td>1, KDP Building, 4th Floor, Near Forum Mall, A...</td>\n",
              "      <td>Mudpipe Cafe</td>\n",
              "      <td>Yes</td>\n",
              "      <td>Yes</td>\n",
              "      <td>4.5/5</td>\n",
              "      <td>1878</td>\n",
              "      <td>+91 9631220007</td>\n",
              "      <td>BTM</td>\n",
              "      <td>Cafe</td>\n",
              "      <td>Chaat, Nachos, Peri Peri Pizza, Wedges, Milk S...</td>\n",
              "      <td>Cafe, Continental, Burger</td>\n",
              "      <td>900</td>\n",
              "      <td>[('Rated 4.0', 'RATED\\n  Amazing ambience. Goo...</td>\n",
              "      <td>['Crispy Spinach Corn Cheese Stick', 'Alfredo ...</td>\n",
              "      <td>Delivery</td>\n",
              "      <td>Jayanagar</td>\n",
              "    </tr>\n",
              "    <tr>\n",
              "      <th>19996</th>\n",
              "      <td>https://www.zomato.com/bangalore/alif-restaura...</td>\n",
              "      <td>312, 15th cross, 5th Phase, JP Nagar, Bangalore</td>\n",
              "      <td>Alif Restaurant</td>\n",
              "      <td>Yes</td>\n",
              "      <td>No</td>\n",
              "      <td>3.6/5</td>\n",
              "      <td>27</td>\n",
              "      <td>+91 8667307119</td>\n",
              "      <td>JP Nagar</td>\n",
              "      <td>Casual Dining</td>\n",
              "      <td>NaN</td>\n",
              "      <td>North Indian, Chinese</td>\n",
              "      <td>600</td>\n",
              "      <td>[('Rated 3.0', \"RATED\\n  It's a medium size ho...</td>\n",
              "      <td>['Pepper Chicken', 'Grilled Chicken', 'Dum Bri...</td>\n",
              "      <td>Delivery</td>\n",
              "      <td>Jayanagar</td>\n",
              "    </tr>\n",
              "    <tr>\n",
              "      <th>19997</th>\n",
              "      <td>https://www.zomato.com/bangalore/black-deer-ko...</td>\n",
              "      <td>18th Main Park, 17th H Main Road, Koramangala ...</td>\n",
              "      <td>Black Deer</td>\n",
              "      <td>Yes</td>\n",
              "      <td>No</td>\n",
              "      <td>4.4/5</td>\n",
              "      <td>149</td>\n",
              "      <td>080 43751110\\r\\n+91 9886552002</td>\n",
              "      <td>Koramangala 5th Block</td>\n",
              "      <td>Takeaway, Delivery</td>\n",
              "      <td>Chocolate Fudge, Chocolate Shake, Bubble Gum S...</td>\n",
              "      <td>Beverages, Desserts</td>\n",
              "      <td>350</td>\n",
              "      <td>[('Rated 4.0', \"RATED\\n  I'm not a big fan of ...</td>\n",
              "      <td>['Red Velvet Ice Cream Sundaes', 'Fruit Basket...</td>\n",
              "      <td>Delivery</td>\n",
              "      <td>Jayanagar</td>\n",
              "    </tr>\n",
              "    <tr>\n",
              "      <th>19998</th>\n",
              "      <td>https://www.zomato.com/bangalore/supreme-birya...</td>\n",
              "      <td>Delivery Only</td>\n",
              "      <td>Supreme Biryani</td>\n",
              "      <td>Yes</td>\n",
              "      <td>No</td>\n",
              "      <td>NaN</td>\n",
              "      <td>0</td>\n",
              "      <td>+91 9606441698</td>\n",
              "      <td>South Bangalore</td>\n",
              "      <td>Takeaway, Delivery</td>\n",
              "      <td>NaN</td>\n",
              "      <td>Biryani</td>\n",
              "      <td>400</td>\n",
              "      <td>[]</td>\n",
              "      <td>['Masaledar Egg Biryani [Serves 2]', 'Biryani ...</td>\n",
              "      <td>Delivery</td>\n",
              "      <td>Jayanagar</td>\n",
              "    </tr>\n",
              "    <tr>\n",
              "      <th>19999</th>\n",
              "      <td>https://www.zomato.com/bangalore/chai-kraft-1-...</td>\n",
              "      <td>146, 6th C Main Road, 1st Block, Jayanagar, Ba...</td>\n",
              "      <td>Chai Kraft</td>\n",
              "      <td>Yes</td>\n",
              "      <td>No</td>\n",
              "      <td>4.1/5</td>\n",
              "      <td>30</td>\n",
              "      <td>+91 9946666099</td>\n",
              "      <td>Jayanagar</td>\n",
              "      <td>Beverage Shop</td>\n",
              "      <td>Masala Chai, Coffee, Masala Tea, Maggi</td>\n",
              "      <td>Beverages, Tea</td>\n",
              "      <td>100</td>\n",
              "      <td>[('Rated 4.0', 'RATED\\n  Ginger Chai and masal...</td>\n",
              "      <td>[]</td>\n",
              "      <td>Delivery</td>\n",
              "      <td>Jayanagar</td>\n",
              "    </tr>\n",
              "  </tbody>\n",
              "</table>\n",
              "<p>20000 rows × 17 columns</p>\n",
              "</div>"
            ],
            "text/plain": [
              "                                                     url  ... listed_in(city)\n",
              "0      https://www.zomato.com/bangalore/jalsa-banasha...  ...    Banashankari\n",
              "1      https://www.zomato.com/bangalore/spice-elephan...  ...    Banashankari\n",
              "2      https://www.zomato.com/SanchurroBangalore?cont...  ...    Banashankari\n",
              "3      https://www.zomato.com/bangalore/addhuri-udupi...  ...    Banashankari\n",
              "4      https://www.zomato.com/bangalore/grand-village...  ...    Banashankari\n",
              "...                                                  ...  ...             ...\n",
              "19995  https://www.zomato.com/bangalore/mudpipe-cafe-...  ...       Jayanagar\n",
              "19996  https://www.zomato.com/bangalore/alif-restaura...  ...       Jayanagar\n",
              "19997  https://www.zomato.com/bangalore/black-deer-ko...  ...       Jayanagar\n",
              "19998  https://www.zomato.com/bangalore/supreme-birya...  ...       Jayanagar\n",
              "19999  https://www.zomato.com/bangalore/chai-kraft-1-...  ...       Jayanagar\n",
              "\n",
              "[20000 rows x 17 columns]"
            ]
          },
          "metadata": {},
          "execution_count": 4
        }
      ]
    },
    {
      "cell_type": "markdown",
      "metadata": {
        "id": "YPDJpz5ccrdy"
      },
      "source": [
        "All Column information"
      ]
    },
    {
      "cell_type": "markdown",
      "metadata": {
        "id": "pNYnxaiY1y0K"
      },
      "source": [
        "rate , phone , location , rest_type , dish_liked , cuisines, approx_cost(for two people) have missing values"
      ]
    },
    {
      "cell_type": "code",
      "metadata": {
        "colab": {
          "base_uri": "https://localhost:8080/"
        },
        "id": "m5poo4RS1try",
        "outputId": "63f02993-75c1-422e-ad1f-50ec8b8cd6dc"
      },
      "source": [
        "df['votes'].describe()"
      ],
      "execution_count": null,
      "outputs": [
        {
          "output_type": "execute_result",
          "data": {
            "text/plain": [
              "count    20000.000000\n",
              "mean       268.516550\n",
              "std        749.398815\n",
              "min          0.000000\n",
              "25%          6.000000\n",
              "50%         41.000000\n",
              "75%        193.000000\n",
              "max      16345.000000\n",
              "Name: votes, dtype: float64"
            ]
          },
          "metadata": {},
          "execution_count": 5
        }
      ]
    },
    {
      "cell_type": "code",
      "metadata": {
        "id": "xyD_qusU2tD_"
      },
      "source": [
        "# drop unnecessary columns\n",
        "column_to_drop = ['address','url' ,'listed_in(city)', 'phone']\n",
        "df.drop(columns=column_to_drop, axis=1,inplace=True)"
      ],
      "execution_count": null,
      "outputs": []
    },
    {
      "cell_type": "code",
      "metadata": {
        "colab": {
          "base_uri": "https://localhost:8080/"
        },
        "id": "LUJkqA7H3Kcg",
        "outputId": "8916a096-1a07-4980-e5c0-7dbc986e9744"
      },
      "source": [
        "df.info()"
      ],
      "execution_count": null,
      "outputs": [
        {
          "output_type": "stream",
          "name": "stdout",
          "text": [
            "<class 'pandas.core.frame.DataFrame'>\n",
            "RangeIndex: 20000 entries, 0 to 19999\n",
            "Data columns (total 13 columns):\n",
            " #   Column                       Non-Null Count  Dtype \n",
            "---  ------                       --------------  ----- \n",
            " 0   name                         20000 non-null  object\n",
            " 1   online_order                 20000 non-null  object\n",
            " 2   book_table                   20000 non-null  object\n",
            " 3   rate                         17129 non-null  object\n",
            " 4   votes                        20000 non-null  int64 \n",
            " 5   location                     19996 non-null  object\n",
            " 6   rest_type                    19916 non-null  object\n",
            " 7   dish_liked                   9099 non-null   object\n",
            " 8   cuisines                     19987 non-null  object\n",
            " 9   approx_cost(for two people)  19934 non-null  object\n",
            " 10  reviews_list                 20000 non-null  object\n",
            " 11  menu_item                    20000 non-null  object\n",
            " 12  listed_in(type)              20000 non-null  object\n",
            "dtypes: int64(1), object(12)\n",
            "memory usage: 2.0+ MB\n"
          ]
        }
      ]
    },
    {
      "cell_type": "markdown",
      "metadata": {
        "id": "0Az-R5_E3arV"
      },
      "source": [
        "###  2.2.2 Remove Duplicates"
      ]
    },
    {
      "cell_type": "code",
      "metadata": {
        "colab": {
          "base_uri": "https://localhost:8080/"
        },
        "id": "EccnzKxY3RZK",
        "outputId": "bd14c7bb-aeae-465c-ce45-699b852def2f"
      },
      "source": [
        "# check for duplicate values\n",
        "print(\"No of Duplicates in dataset:  \",df.duplicated().sum())"
      ],
      "execution_count": null,
      "outputs": [
        {
          "output_type": "stream",
          "name": "stdout",
          "text": [
            "No of Duplicates in dataset:   2242\n"
          ]
        }
      ]
    },
    {
      "cell_type": "code",
      "metadata": {
        "id": "0IsqEUE73fu6"
      },
      "source": [
        "# drop the duplicates\n",
        "df.drop_duplicates(inplace=True)"
      ],
      "execution_count": null,
      "outputs": []
    },
    {
      "cell_type": "markdown",
      "metadata": {
        "id": "FQh2NBsK3pp6"
      },
      "source": [
        "### 2.2.3 Removing Null values\n",
        "Q.2) Is there NULL values present in dataset? If yes then many they are (in %)?"
      ]
    },
    {
      "cell_type": "code",
      "metadata": {
        "colab": {
          "base_uri": "https://localhost:8080/"
        },
        "id": "UaQUT5Q53kma",
        "outputId": "44c42f86-990b-4aa6-dc48-a2ce832a88a9"
      },
      "source": [
        "# check for null values\n",
        "((df.isna().sum()/df.shape[0])*100).round(2)"
      ],
      "execution_count": null,
      "outputs": [
        {
          "output_type": "execute_result",
          "data": {
            "text/plain": [
              "name                            0.00\n",
              "online_order                    0.00\n",
              "book_table                      0.00\n",
              "rate                           13.14\n",
              "votes                           0.00\n",
              "location                        0.02\n",
              "rest_type                       0.44\n",
              "dish_liked                     52.18\n",
              "cuisines                        0.07\n",
              "approx_cost(for two people)     0.32\n",
              "reviews_list                    0.00\n",
              "menu_item                       0.00\n",
              "listed_in(type)                 0.00\n",
              "dtype: float64"
            ]
          },
          "metadata": {},
          "execution_count": 10
        }
      ]
    },
    {
      "cell_type": "markdown",
      "metadata": {
        "id": "07eXxEDc4LU6"
      },
      "source": [
        "#### Observation:\n",
        "- We can oberve that 52% dish_liked is missing as well as 13% rate values are missing.\n",
        "- If we throw everything out, mean we are loosing more than 60% points.\n",
        "\n",
        "**Q.3) Can we do something, can we save some of the points?**\n",
        "\n",
        "But before removing NULL values lets understand, Rate colomn."
      ]
    },
    {
      "cell_type": "code",
      "metadata": {
        "colab": {
          "base_uri": "https://localhost:8080/"
        },
        "id": "kuUMVnQ933u8",
        "outputId": "bf092780-56eb-4adb-9802-fcff64a67165"
      },
      "source": [
        "# check for unique values in the rate column\n",
        "df.rate.unique()"
      ],
      "execution_count": null,
      "outputs": [
        {
          "output_type": "execute_result",
          "data": {
            "text/plain": [
              "array(['4.1/5', '3.8/5', '3.7/5', '3.6/5', '4.6/5', '4.0/5', '4.2/5',\n",
              "       '3.9/5', '3.1/5', '3.0/5', '3.2/5', '3.3/5', '2.8/5', '4.4/5',\n",
              "       '4.3/5', 'NEW', '2.9/5', '3.5/5', nan, '2.6/5', '3.8 /5', '3.4/5',\n",
              "       '4.5/5', '2.5/5', '2.7/5', '4.7/5', '2.4/5', '2.2/5', '2.3/5',\n",
              "       '3.4 /5', '-', '3.6 /5', '4.8/5', '3.9 /5', '4.2 /5', '4.0 /5',\n",
              "       '4.1 /5', '3.7 /5', '3.1 /5', '2.9 /5', '3.3 /5', '2.8 /5',\n",
              "       '3.5 /5', '2.7 /5', '2.5 /5', '3.2 /5', '2.6 /5', '4.5 /5',\n",
              "       '4.3 /5', '4.4 /5', '4.9/5', '2.1/5', '2.0/5', '1.8/5', '4.6 /5',\n",
              "       '4.9 /5', '3.0 /5'], dtype=object)"
            ]
          },
          "metadata": {},
          "execution_count": 11
        }
      ]
    },
    {
      "cell_type": "markdown",
      "metadata": {
        "id": "fR_uNjh24alh"
      },
      "source": [
        "#### Observation:\n",
        "- There are some points which has 'NEW' rating and '-' rating, which is completely incorrect."
      ]
    },
    {
      "cell_type": "code",
      "metadata": {
        "id": "47Dgwtcb4UnP"
      },
      "source": [
        "# removed 'NEW' and '-' from rate coloumn and put NaN value.\n",
        "df['rate'] = df['rate'].replace('NEW',np.NaN)\n",
        "df['rate'] = df['rate'].replace('-',np.NaN)"
      ],
      "execution_count": null,
      "outputs": []
    },
    {
      "cell_type": "code",
      "metadata": {
        "colab": {
          "base_uri": "https://localhost:8080/"
        },
        "id": "EoK55aRQ4gGH",
        "outputId": "c66d3c02-d8c3-4faf-9249-e3f69c2c0859"
      },
      "source": [
        "# chcek again data.rate coloumn. we can see nan values.\n",
        "df.rate.unique()"
      ],
      "execution_count": null,
      "outputs": [
        {
          "output_type": "execute_result",
          "data": {
            "text/plain": [
              "array(['4.1/5', '3.8/5', '3.7/5', '3.6/5', '4.6/5', '4.0/5', '4.2/5',\n",
              "       '3.9/5', '3.1/5', '3.0/5', '3.2/5', '3.3/5', '2.8/5', '4.4/5',\n",
              "       '4.3/5', nan, '2.9/5', '3.5/5', '2.6/5', '3.8 /5', '3.4/5',\n",
              "       '4.5/5', '2.5/5', '2.7/5', '4.7/5', '2.4/5', '2.2/5', '2.3/5',\n",
              "       '3.4 /5', '3.6 /5', '4.8/5', '3.9 /5', '4.2 /5', '4.0 /5',\n",
              "       '4.1 /5', '3.7 /5', '3.1 /5', '2.9 /5', '3.3 /5', '2.8 /5',\n",
              "       '3.5 /5', '2.7 /5', '2.5 /5', '3.2 /5', '2.6 /5', '4.5 /5',\n",
              "       '4.3 /5', '4.4 /5', '4.9/5', '2.1/5', '2.0/5', '1.8/5', '4.6 /5',\n",
              "       '4.9 /5', '3.0 /5'], dtype=object)"
            ]
          },
          "metadata": {},
          "execution_count": 13
        }
      ]
    },
    {
      "cell_type": "markdown",
      "metadata": {
        "id": "Vqsk6_e34x3g"
      },
      "source": [
        "We can see that by default it has '/5' (divide by 5) arithmatic character, first we will remove this then proceed."
      ]
    },
    {
      "cell_type": "code",
      "metadata": {
        "colab": {
          "base_uri": "https://localhost:8080/"
        },
        "id": "ZaTB6pe24m24",
        "outputId": "14cf4e8d-2f2f-4275-97de-c94a14538346"
      },
      "source": [
        "((df.isna().sum()/df.shape[0])*100).round(2)"
      ],
      "execution_count": null,
      "outputs": [
        {
          "output_type": "execute_result",
          "data": {
            "text/plain": [
              "name                            0.00\n",
              "online_order                    0.00\n",
              "book_table                      0.00\n",
              "rate                           18.63\n",
              "votes                           0.00\n",
              "location                        0.02\n",
              "rest_type                       0.44\n",
              "dish_liked                     52.18\n",
              "cuisines                        0.07\n",
              "approx_cost(for two people)     0.32\n",
              "reviews_list                    0.00\n",
              "menu_item                       0.00\n",
              "listed_in(type)                 0.00\n",
              "dtype: float64"
            ]
          },
          "metadata": {},
          "execution_count": 14
        }
      ]
    },
    {
      "cell_type": "markdown",
      "metadata": {
        "id": "kWfOh6hk5C6S"
      },
      "source": [
        "Note : 'rate' NaN % was 10.15 initially now it is 14.11. Because some values took 'NEW' and '-' values which we removed and this is actual NaN % for rate coloumn."
      ]
    },
    {
      "cell_type": "code",
      "metadata": {
        "id": "QUuqqupr45iz"
      },
      "source": [
        "## apply takes a function and applies it to all values of pandas series.\n",
        "\n",
        "df['rate'] = df['rate'].astype(str)\n",
        "\n",
        "## removed all '/5' and replace with ''\n",
        "df['rate'] = df['rate'].apply(lambda r: r.replace('/5',''))\n",
        "\n",
        "## convert rate to float\n",
        "df['rate'] = df['rate'].apply(lambda r: float(r))"
      ],
      "execution_count": null,
      "outputs": []
    },
    {
      "cell_type": "code",
      "metadata": {
        "colab": {
          "base_uri": "https://localhost:8080/"
        },
        "id": "H8asgT8N5KkT",
        "outputId": "4255e845-3799-4f22-8066-1e9aeeda6b81"
      },
      "source": [
        "df['rate']"
      ],
      "execution_count": null,
      "outputs": [
        {
          "output_type": "execute_result",
          "data": {
            "text/plain": [
              "0        4.1\n",
              "1        4.1\n",
              "2        3.8\n",
              "3        3.7\n",
              "4        3.8\n",
              "        ... \n",
              "19994    3.9\n",
              "19995    4.5\n",
              "19996    3.6\n",
              "19997    4.4\n",
              "19998    NaN\n",
              "Name: rate, Length: 17758, dtype: float64"
            ]
          },
          "metadata": {},
          "execution_count": 16
        }
      ]
    },
    {
      "cell_type": "markdown",
      "metadata": {
        "id": "Lfblyooj5qLn"
      },
      "source": [
        "***As we understood Rate colomn above, lets understand, dish_liked***<br>\n",
        "But before that first go throght \"Review_List\""
      ]
    },
    {
      "cell_type": "code",
      "metadata": {
        "colab": {
          "base_uri": "https://localhost:8080/"
        },
        "id": "OTmX48gW5NKu",
        "outputId": "cb639a68-2ec3-47ba-f08a-d4fec05e6b5c"
      },
      "source": [
        "type(df.reviews_list[0])"
      ],
      "execution_count": null,
      "outputs": [
        {
          "output_type": "execute_result",
          "data": {
            "text/plain": [
              "str"
            ]
          },
          "metadata": {},
          "execution_count": 17
        }
      ]
    },
    {
      "cell_type": "code",
      "metadata": {
        "colab": {
          "base_uri": "https://localhost:8080/"
        },
        "id": "Bvop31n25uAf",
        "outputId": "bf0e1cce-7f34-44ec-93a3-72523e2c4cd1"
      },
      "source": [
        "# https://stackoverflow.com/questions/15197673/using-pythons-eval-vs-ast-literal-eval\n",
        "## ast.literal_eval raises an exception if the input isn't a valid Python datatype, so the code won't be executed if it's not.\n",
        "\n",
        "# return to a list of tuples\n",
        "df.reviews_list = df.reviews_list.apply(lambda x: ast.literal_eval(x))\n",
        "type(df.reviews_list[0])"
      ],
      "execution_count": null,
      "outputs": [
        {
          "output_type": "execute_result",
          "data": {
            "text/plain": [
              "list"
            ]
          },
          "metadata": {},
          "execution_count": 18
        }
      ]
    },
    {
      "cell_type": "code",
      "metadata": {
        "colab": {
          "base_uri": "https://localhost:8080/"
        },
        "id": "aBQ826Mv50SK",
        "outputId": "12f67a6c-2bd4-4404-b6d8-cf79daa73add"
      },
      "source": [
        "# check for the first item in list\n",
        "df.reviews_list[0][0]"
      ],
      "execution_count": null,
      "outputs": [
        {
          "output_type": "execute_result",
          "data": {
            "text/plain": [
              "('Rated 4.0',\n",
              " 'RATED\\n  A beautiful place to dine in.The interiors take you back to the Mughal era. The lightings are just perfect.We went there on the occasion of Christmas and so they had only limited items available. But the taste and service was not compromised at all.The only complaint is that the breads could have been better.Would surely like to come here again.')"
            ]
          },
          "metadata": {},
          "execution_count": 19
        }
      ]
    },
    {
      "cell_type": "code",
      "metadata": {
        "colab": {
          "base_uri": "https://localhost:8080/"
        },
        "id": "pm4SeH4D6UTC",
        "outputId": "79280ae8-110f-4067-b611-5caf9fa1c978"
      },
      "source": [
        "# check for the second item in list\n",
        "df.reviews_list[0][1]"
      ],
      "execution_count": null,
      "outputs": [
        {
          "output_type": "execute_result",
          "data": {
            "text/plain": [
              "('Rated 4.0',\n",
              " 'RATED\\n  I was here for dinner with my family on a weekday. The restaurant was completely empty. Ambience is good with some good old hindi music. Seating arrangement are good too. We ordered masala papad, panner and baby corn starters, lemon and corrionder soup, butter roti, olive and chilli paratha. Food was fresh and good, service is good too. Good for family hangout.\\nCheers')"
            ]
          },
          "metadata": {},
          "execution_count": 20
        }
      ]
    },
    {
      "cell_type": "markdown",
      "metadata": {
        "id": "V_LqC2kW6iAP"
      },
      "source": [
        "#### Observation:\n",
        "- We can see that in \"Review_List\" starting line come up with rating. 'Rated 4.0'.\n",
        "- We can use this values and filled up 'Rate' colomn.\n",
        "\n",
        "**Q3A. Can we use this values as fill up in 'Rate' Colomn wherever it is missing? If yes then image we have saved that data point,ie information.**"
      ]
    },
    {
      "cell_type": "code",
      "metadata": {
        "colab": {
          "base_uri": "https://localhost:8080/"
        },
        "id": "-BdxdSNg6cOm",
        "outputId": "8c45de23-d00a-44b4-a14d-b98ac5c9d8fa"
      },
      "source": [
        "# extract the rate for the first input from the review column\n",
        "extracted = [float(i[0].replace('Rated','').strip()) for i in df.reviews_list[0]]\n",
        "extracted"
      ],
      "execution_count": null,
      "outputs": [
        {
          "output_type": "execute_result",
          "data": {
            "text/plain": [
              "[4.0, 4.0, 2.0, 4.0, 5.0, 5.0, 4.0, 4.0, 5.0, 4.0, 4.0, 4.0]"
            ]
          },
          "metadata": {},
          "execution_count": 21
        }
      ]
    },
    {
      "cell_type": "markdown",
      "metadata": {
        "id": "gwJ_FINE62k7"
      },
      "source": [
        "Above are review for particular restaurant, we can use mean value."
      ]
    },
    {
      "cell_type": "code",
      "metadata": {
        "colab": {
          "base_uri": "https://localhost:8080/"
        },
        "id": "jEbwyhoU6tjz",
        "outputId": "d7ae0b1e-2084-480a-fa6e-d95fae8f9403"
      },
      "source": [
        "extracted_mean = round((sum(extracted)/len(extracted)),1)\n",
        "extracted_mean"
      ],
      "execution_count": null,
      "outputs": [
        {
          "output_type": "execute_result",
          "data": {
            "text/plain": [
              "4.1"
            ]
          },
          "metadata": {},
          "execution_count": 22
        }
      ]
    },
    {
      "cell_type": "markdown",
      "metadata": {
        "id": "v7dVL0Mu7YH8"
      },
      "source": [
        "- This is great. Lets Compare this value with 'Rate' colomn value."
      ]
    },
    {
      "cell_type": "code",
      "metadata": {
        "colab": {
          "base_uri": "https://localhost:8080/"
        },
        "id": "GX9I1P-Z65SV",
        "outputId": "7c9c4bda-624e-48b2-becb-124087722bcc"
      },
      "source": [
        "print(\"Extracted Rate: \",extracted_mean)\n",
        "print(\"Original Rate: \",df.rate[0])"
      ],
      "execution_count": null,
      "outputs": [
        {
          "output_type": "stream",
          "name": "stdout",
          "text": [
            "Extracted Rate:  4.1\n",
            "Original Rate:  4.1\n"
          ]
        }
      ]
    },
    {
      "cell_type": "markdown",
      "metadata": {
        "id": "gqxAl2gg7f0v"
      },
      "source": [
        "This is brillliant, lets do for all."
      ]
    },
    {
      "cell_type": "code",
      "metadata": {
        "id": "JiQrxEim7bO2"
      },
      "source": [
        "def extract_features_from_review_list(x):\n",
        "    '''\n",
        "    extract the rate value out of a string inside tuple\n",
        "    '''\n",
        "    # ensure that x is not Null and there is more than one rate\n",
        "    if not x or len(x) <= 1:\n",
        "        return None\n",
        "    \n",
        "    ## checked give values is text or not, if it is text then removed 'Rated', convert string to float.\n",
        "    rate = [float(i[0].replace('Rated','').strip())  for i in x if type(i[0])== str]\n",
        "    \n",
        "    ## return average value\n",
        "    return round((sum(rate)/len(rate)),1)"
      ],
      "execution_count": null,
      "outputs": []
    },
    {
      "cell_type": "code",
      "metadata": {
        "id": "lkNKKfC-7mS9"
      },
      "source": [
        "# create new column\n",
        "df['review_rate']  = df.reviews_list.apply(lambda x : extract_features_from_review_list(x))"
      ],
      "execution_count": null,
      "outputs": []
    },
    {
      "cell_type": "code",
      "metadata": {
        "colab": {
          "base_uri": "https://localhost:8080/",
          "height": 363
        },
        "id": "qdvL22e37qQ7",
        "outputId": "e414e99b-3d76-4f61-b207-28d0e8347bac"
      },
      "source": [
        "## Compare \"Original Rate\" vs \"Rate extracted from Review List\"\n",
        "df.loc[:,['rate','review_rate']].sample(10,random_state=1)"
      ],
      "execution_count": null,
      "outputs": [
        {
          "output_type": "execute_result",
          "data": {
            "text/html": [
              "<div>\n",
              "<style scoped>\n",
              "    .dataframe tbody tr th:only-of-type {\n",
              "        vertical-align: middle;\n",
              "    }\n",
              "\n",
              "    .dataframe tbody tr th {\n",
              "        vertical-align: top;\n",
              "    }\n",
              "\n",
              "    .dataframe thead th {\n",
              "        text-align: right;\n",
              "    }\n",
              "</style>\n",
              "<table border=\"1\" class=\"dataframe\">\n",
              "  <thead>\n",
              "    <tr style=\"text-align: right;\">\n",
              "      <th></th>\n",
              "      <th>rate</th>\n",
              "      <th>review_rate</th>\n",
              "    </tr>\n",
              "  </thead>\n",
              "  <tbody>\n",
              "    <tr>\n",
              "      <th>2920</th>\n",
              "      <td>3.9</td>\n",
              "      <td>3.4</td>\n",
              "    </tr>\n",
              "    <tr>\n",
              "      <th>10760</th>\n",
              "      <td>3.5</td>\n",
              "      <td>4.9</td>\n",
              "    </tr>\n",
              "    <tr>\n",
              "      <th>3314</th>\n",
              "      <td>2.7</td>\n",
              "      <td>4.0</td>\n",
              "    </tr>\n",
              "    <tr>\n",
              "      <th>2012</th>\n",
              "      <td>3.2</td>\n",
              "      <td>3.2</td>\n",
              "    </tr>\n",
              "    <tr>\n",
              "      <th>17538</th>\n",
              "      <td>4.3</td>\n",
              "      <td>4.4</td>\n",
              "    </tr>\n",
              "    <tr>\n",
              "      <th>1248</th>\n",
              "      <td>3.3</td>\n",
              "      <td>3.2</td>\n",
              "    </tr>\n",
              "    <tr>\n",
              "      <th>16647</th>\n",
              "      <td>4.0</td>\n",
              "      <td>4.0</td>\n",
              "    </tr>\n",
              "    <tr>\n",
              "      <th>8674</th>\n",
              "      <td>NaN</td>\n",
              "      <td>NaN</td>\n",
              "    </tr>\n",
              "    <tr>\n",
              "      <th>15693</th>\n",
              "      <td>3.3</td>\n",
              "      <td>3.3</td>\n",
              "    </tr>\n",
              "    <tr>\n",
              "      <th>13451</th>\n",
              "      <td>4.0</td>\n",
              "      <td>4.7</td>\n",
              "    </tr>\n",
              "  </tbody>\n",
              "</table>\n",
              "</div>"
            ],
            "text/plain": [
              "       rate  review_rate\n",
              "2920    3.9          3.4\n",
              "10760   3.5          4.9\n",
              "3314    2.7          4.0\n",
              "2012    3.2          3.2\n",
              "17538   4.3          4.4\n",
              "1248    3.3          3.2\n",
              "16647   4.0          4.0\n",
              "8674    NaN          NaN\n",
              "15693   3.3          3.3\n",
              "13451   4.0          4.7"
            ]
          },
          "metadata": {},
          "execution_count": 26
        }
      ]
    },
    {
      "cell_type": "markdown",
      "metadata": {
        "id": "evGWZPUO74rm"
      },
      "source": [
        "- Quite Closer.\n",
        "- Ok, so we can replace missing value with this new adjustment."
      ]
    },
    {
      "cell_type": "code",
      "metadata": {
        "colab": {
          "base_uri": "https://localhost:8080/"
        },
        "id": "UQwFq_bE7xMC",
        "outputId": "f69dec0a-608b-45a6-bdad-19a069b779df"
      },
      "source": [
        "# get the before number of null values\n",
        "df.rate.isna().sum()"
      ],
      "execution_count": null,
      "outputs": [
        {
          "output_type": "execute_result",
          "data": {
            "text/plain": [
              "3308"
            ]
          },
          "metadata": {},
          "execution_count": 27
        }
      ]
    },
    {
      "cell_type": "code",
      "metadata": {
        "colab": {
          "base_uri": "https://localhost:8080/",
          "height": 504
        },
        "id": "PBOc1kbR8Auf",
        "outputId": "73c0be11-68c6-4395-bdb0-8f5ee58b44d7"
      },
      "source": [
        "## https://stackoverflow.com/questions/26535563/querying-for-nan-and-other-names-in-pandas\n",
        "\n",
        "## finding rate = NaN and review_rate == not NaN\n",
        "df.query('rate != rate & review_rate == review_rate')[:5]"
      ],
      "execution_count": null,
      "outputs": [
        {
          "output_type": "execute_result",
          "data": {
            "text/html": [
              "<div>\n",
              "<style scoped>\n",
              "    .dataframe tbody tr th:only-of-type {\n",
              "        vertical-align: middle;\n",
              "    }\n",
              "\n",
              "    .dataframe tbody tr th {\n",
              "        vertical-align: top;\n",
              "    }\n",
              "\n",
              "    .dataframe thead th {\n",
              "        text-align: right;\n",
              "    }\n",
              "</style>\n",
              "<table border=\"1\" class=\"dataframe\">\n",
              "  <thead>\n",
              "    <tr style=\"text-align: right;\">\n",
              "      <th></th>\n",
              "      <th>name</th>\n",
              "      <th>online_order</th>\n",
              "      <th>book_table</th>\n",
              "      <th>rate</th>\n",
              "      <th>votes</th>\n",
              "      <th>location</th>\n",
              "      <th>rest_type</th>\n",
              "      <th>dish_liked</th>\n",
              "      <th>cuisines</th>\n",
              "      <th>approx_cost(for two people)</th>\n",
              "      <th>reviews_list</th>\n",
              "      <th>menu_item</th>\n",
              "      <th>listed_in(type)</th>\n",
              "      <th>review_rate</th>\n",
              "    </tr>\n",
              "  </thead>\n",
              "  <tbody>\n",
              "    <tr>\n",
              "      <th>72</th>\n",
              "      <td>Spicy Tandoor</td>\n",
              "      <td>No</td>\n",
              "      <td>No</td>\n",
              "      <td>NaN</td>\n",
              "      <td>0</td>\n",
              "      <td>Banashankari</td>\n",
              "      <td>Quick Bites</td>\n",
              "      <td>NaN</td>\n",
              "      <td>North Indian</td>\n",
              "      <td>150</td>\n",
              "      <td>[(Rated 4.0, RATED\\n  cost for chicken rolls i...</td>\n",
              "      <td>[]</td>\n",
              "      <td>Delivery</td>\n",
              "      <td>4.5</td>\n",
              "    </tr>\n",
              "    <tr>\n",
              "      <th>90</th>\n",
              "      <td>Me And My Cake</td>\n",
              "      <td>No</td>\n",
              "      <td>No</td>\n",
              "      <td>NaN</td>\n",
              "      <td>0</td>\n",
              "      <td>Banashankari</td>\n",
              "      <td>Delivery</td>\n",
              "      <td>NaN</td>\n",
              "      <td>Bakery, Desserts</td>\n",
              "      <td>500</td>\n",
              "      <td>[(Rated 1.0, RATED\\n  Do not order anything. T...</td>\n",
              "      <td>[]</td>\n",
              "      <td>Delivery</td>\n",
              "      <td>1.0</td>\n",
              "    </tr>\n",
              "    <tr>\n",
              "      <th>110</th>\n",
              "      <td>Hari Super Sandwich</td>\n",
              "      <td>No</td>\n",
              "      <td>No</td>\n",
              "      <td>NaN</td>\n",
              "      <td>0</td>\n",
              "      <td>Banashankari</td>\n",
              "      <td>Takeaway, Delivery</td>\n",
              "      <td>NaN</td>\n",
              "      <td>Sandwich, Pizza, Beverages</td>\n",
              "      <td>200</td>\n",
              "      <td>[(Rated 1.0, RATED\\n  I have been here many ti...</td>\n",
              "      <td>[]</td>\n",
              "      <td>Delivery</td>\n",
              "      <td>1.0</td>\n",
              "    </tr>\n",
              "    <tr>\n",
              "      <th>116</th>\n",
              "      <td>Wood Stove</td>\n",
              "      <td>No</td>\n",
              "      <td>No</td>\n",
              "      <td>NaN</td>\n",
              "      <td>0</td>\n",
              "      <td>Banashankari</td>\n",
              "      <td>Takeaway, Delivery</td>\n",
              "      <td>NaN</td>\n",
              "      <td>South Indian</td>\n",
              "      <td>150</td>\n",
              "      <td>[(Rated 5.0, RATED\\n  Wow this food is great ?...</td>\n",
              "      <td>[]</td>\n",
              "      <td>Delivery</td>\n",
              "      <td>5.0</td>\n",
              "    </tr>\n",
              "    <tr>\n",
              "      <th>138</th>\n",
              "      <td>Sri Murari Family Restaurant</td>\n",
              "      <td>No</td>\n",
              "      <td>No</td>\n",
              "      <td>NaN</td>\n",
              "      <td>0</td>\n",
              "      <td>Banashankari</td>\n",
              "      <td>Quick Bites</td>\n",
              "      <td>NaN</td>\n",
              "      <td>Biryani</td>\n",
              "      <td>250</td>\n",
              "      <td>[(Rated 4.0, RATED\\n  This tiny mess near kath...</td>\n",
              "      <td>[]</td>\n",
              "      <td>Delivery</td>\n",
              "      <td>4.5</td>\n",
              "    </tr>\n",
              "  </tbody>\n",
              "</table>\n",
              "</div>"
            ],
            "text/plain": [
              "                             name online_order  ... listed_in(type)  review_rate\n",
              "72                  Spicy Tandoor           No  ...        Delivery          4.5\n",
              "90                 Me And My Cake           No  ...        Delivery          1.0\n",
              "110           Hari Super Sandwich           No  ...        Delivery          1.0\n",
              "116                    Wood Stove           No  ...        Delivery          5.0\n",
              "138  Sri Murari Family Restaurant           No  ...        Delivery          4.5\n",
              "\n",
              "[5 rows x 14 columns]"
            ]
          },
          "metadata": {},
          "execution_count": 28
        }
      ]
    },
    {
      "cell_type": "code",
      "metadata": {
        "id": "6CrEOcnQ8Fkt"
      },
      "source": [
        "# https://stackoverflow.com/questions/26535563/querying-for-nan-and-other-names-in-pandas\n",
        "# https://stackoverflow.com/questions/24036911/how-to-update-values-in-a-specific-row-in-a-python-pandas-dataframe\n",
        "\n",
        "\n",
        "## finding index where rate==NaN and review_rate== not NaN\n",
        "nan_index = df.query('rate != rate & review_rate == review_rate').index\n",
        "for i in nan_index:\n",
        "    df.loc[i,'rate'] = df.loc[i,'review_rate'] "
      ],
      "execution_count": null,
      "outputs": []
    },
    {
      "cell_type": "code",
      "metadata": {
        "colab": {
          "base_uri": "https://localhost:8080/"
        },
        "id": "RDwbF9Ha8awG",
        "outputId": "e23b1bda-de47-4e3b-b27e-f853d5392853"
      },
      "source": [
        "# update the number of null values now\n",
        "df.rate.isna().sum()"
      ],
      "execution_count": null,
      "outputs": [
        {
          "output_type": "execute_result",
          "data": {
            "text/plain": [
              "2759"
            ]
          },
          "metadata": {},
          "execution_count": 30
        }
      ]
    },
    {
      "cell_type": "markdown",
      "metadata": {
        "id": "qYalkZJv8hMq"
      },
      "source": [
        "Please notice we have saved more than 1000 points."
      ]
    },
    {
      "cell_type": "code",
      "metadata": {
        "colab": {
          "base_uri": "https://localhost:8080/"
        },
        "id": "VkMXvN9B8eQP",
        "outputId": "36551314-cb66-423b-cb60-3d00ba216504"
      },
      "source": [
        "# check now\n",
        "((df.isna().sum()/df.shape[0])*100).round(2)"
      ],
      "execution_count": null,
      "outputs": [
        {
          "output_type": "execute_result",
          "data": {
            "text/plain": [
              "name                            0.00\n",
              "online_order                    0.00\n",
              "book_table                      0.00\n",
              "rate                           15.54\n",
              "votes                           0.00\n",
              "location                        0.02\n",
              "rest_type                       0.44\n",
              "dish_liked                     52.18\n",
              "cuisines                        0.07\n",
              "approx_cost(for two people)     0.32\n",
              "reviews_list                    0.00\n",
              "menu_item                       0.00\n",
              "listed_in(type)                 0.00\n",
              "review_rate                    29.61\n",
              "dtype: float64"
            ]
          },
          "metadata": {},
          "execution_count": 31
        }
      ]
    },
    {
      "cell_type": "markdown",
      "metadata": {
        "id": "L0qMXa7u8tfU"
      },
      "source": [
        "Purpose behind filling missing values has being accomplished, we can remove 'review_rate' colomn"
      ]
    },
    {
      "cell_type": "code",
      "metadata": {
        "id": "tNQCTLKt8lji"
      },
      "source": [
        "# # first let's drop the review_rate column now\n",
        "df.drop(columns='review_rate',axis=1,inplace=True)"
      ],
      "execution_count": null,
      "outputs": []
    },
    {
      "cell_type": "code",
      "metadata": {
        "colab": {
          "base_uri": "https://localhost:8080/"
        },
        "id": "OzhDgnAG8y98",
        "outputId": "0f6f1b81-19bf-4785-aafd-d99ef143164a"
      },
      "source": [
        "df.rate.isna().sum()"
      ],
      "execution_count": null,
      "outputs": [
        {
          "output_type": "execute_result",
          "data": {
            "text/plain": [
              "2759"
            ]
          },
          "metadata": {},
          "execution_count": 33
        }
      ]
    },
    {
      "cell_type": "markdown",
      "metadata": {
        "id": "Wb3M95Jz86M6"
      },
      "source": [
        "Now we will remove missing values, from 'rate' and 'average_cost' colomn"
      ]
    },
    {
      "cell_type": "code",
      "metadata": {
        "id": "YvFSy91r81dy"
      },
      "source": [
        "# drop null values\n",
        "df.dropna(subset=['rate', 'approx_cost(for two people)'],inplace=True)"
      ],
      "execution_count": null,
      "outputs": []
    },
    {
      "cell_type": "code",
      "metadata": {
        "colab": {
          "base_uri": "https://localhost:8080/"
        },
        "id": "TNhlSIQL9GKb",
        "outputId": "e9fc6ae3-cc04-43a6-9a1c-55dde3f80726"
      },
      "source": [
        "# check shape\n",
        "df.shape"
      ],
      "execution_count": null,
      "outputs": [
        {
          "output_type": "execute_result",
          "data": {
            "text/plain": [
              "(14952, 13)"
            ]
          },
          "metadata": {},
          "execution_count": 35
        }
      ]
    },
    {
      "cell_type": "code",
      "metadata": {
        "colab": {
          "base_uri": "https://localhost:8080/"
        },
        "id": "MRTFgoIv9Ir-",
        "outputId": "cbd302d9-44d3-4eb9-ce1a-ed596616a520"
      },
      "source": [
        "df.isna().sum()"
      ],
      "execution_count": null,
      "outputs": [
        {
          "output_type": "execute_result",
          "data": {
            "text/plain": [
              "name                              0\n",
              "online_order                      0\n",
              "book_table                        0\n",
              "rate                              0\n",
              "votes                             0\n",
              "location                          0\n",
              "rest_type                        57\n",
              "dish_liked                     6501\n",
              "cuisines                          2\n",
              "approx_cost(for two people)       0\n",
              "reviews_list                      0\n",
              "menu_item                         0\n",
              "listed_in(type)                   0\n",
              "dtype: int64"
            ]
          },
          "metadata": {},
          "execution_count": 36
        }
      ]
    },
    {
      "cell_type": "code",
      "metadata": {
        "id": "3EgJ63w49M2X"
      },
      "source": [
        "# remove cuisines missing values\n",
        "df=df[df.cuisines.isna()==False]"
      ],
      "execution_count": null,
      "outputs": []
    },
    {
      "cell_type": "code",
      "metadata": {
        "id": "4LGwgXGR9TgB"
      },
      "source": [
        "## rename 'approx_cost(for two people)' to 'average_cost'\n",
        "df.rename(columns={'approx_cost(for two people)': 'average_cost'}, inplace=True)"
      ],
      "execution_count": null,
      "outputs": []
    },
    {
      "cell_type": "code",
      "metadata": {
        "colab": {
          "base_uri": "https://localhost:8080/"
        },
        "id": "ARCoODaw9XzQ",
        "outputId": "ddeafd16-8444-4f0f-e9f4-f13b24e1cc14"
      },
      "source": [
        "# check for percentage of null values \n",
        "((df.isna().sum()/df.shape[0])*100).round(2)"
      ],
      "execution_count": null,
      "outputs": [
        {
          "output_type": "execute_result",
          "data": {
            "text/plain": [
              "name                0.00\n",
              "online_order        0.00\n",
              "book_table          0.00\n",
              "rate                0.00\n",
              "votes               0.00\n",
              "location            0.00\n",
              "rest_type           0.38\n",
              "dish_liked         43.47\n",
              "cuisines            0.00\n",
              "average_cost        0.00\n",
              "reviews_list        0.00\n",
              "menu_item           0.00\n",
              "listed_in(type)     0.00\n",
              "dtype: float64"
            ]
          },
          "metadata": {},
          "execution_count": 39
        }
      ]
    },
    {
      "cell_type": "code",
      "metadata": {
        "id": "bJMVqe1m9bPq"
      },
      "source": [
        "# https://stackoverflow.com/questions/51552554/not-working-if-else-in-one-line-python\n",
        "\n",
        "# make lower case\n",
        "df.dish_liked = df.dish_liked.apply(lambda x:x.lower().strip() if isinstance(x,str) else x)"
      ],
      "execution_count": null,
      "outputs": []
    },
    {
      "cell_type": "code",
      "metadata": {
        "colab": {
          "base_uri": "https://localhost:8080/"
        },
        "id": "1ZKQj-Ze9khl",
        "outputId": "16d6dd90-c600-4d46-e18d-c08260cd8522"
      },
      "source": [
        "df.dish_liked[:2]"
      ],
      "execution_count": null,
      "outputs": [
        {
          "output_type": "execute_result",
          "data": {
            "text/plain": [
              "0    pasta, lunch buffet, masala papad, paneer laja...\n",
              "1    momos, lunch buffet, chocolate nirvana, thai g...\n",
              "Name: dish_liked, dtype: object"
            ]
          },
          "metadata": {},
          "execution_count": 41
        }
      ]
    },
    {
      "cell_type": "code",
      "metadata": {
        "colab": {
          "base_uri": "https://localhost:8080/"
        },
        "id": "kyx5BOxo9nJi",
        "outputId": "aa60109d-66a7-4efe-9198-305613fd281e"
      },
      "source": [
        "menu_list = []\n",
        "\n",
        "# collect the dishes' names and make a menu list for all kind of dishes\n",
        "for dish in df.dish_liked.tolist():\n",
        "    if isinstance(dish,str) and len(dish)>0:\n",
        "        for e in dish.split(','):\n",
        "            menu_list.append(e)\n",
        "len(menu_list)"
      ],
      "execution_count": null,
      "outputs": [
        {
          "output_type": "execute_result",
          "data": {
            "text/plain": [
              "46098"
            ]
          },
          "metadata": {},
          "execution_count": 42
        }
      ]
    },
    {
      "cell_type": "code",
      "metadata": {
        "id": "3kanv-o_9qV2"
      },
      "source": [
        "# Now collect the unique dish name \n",
        "menu_set = set(menu_list)"
      ],
      "execution_count": null,
      "outputs": []
    },
    {
      "cell_type": "markdown",
      "metadata": {
        "id": "GYyphUNj95j8"
      },
      "source": [
        "As we replace review_rate into missing rate values can we do the same here.\n",
        "\n",
        "Q.3B) Can we replace missing 'dish_liked' with 'menu_list' values?\n",
        "\n",
        "Before we moving further review lists containts different character we first need to encode to UTF-8 then decode to ASCII code. Below is blog to basically understand UTF-8 and ASCII.\n",
        "\n",
        "\n",
        "https://towardsdatascience.com/a-guide-to-unicode-utf-8-and-strings-in-python-757a232db95c"
      ]
    },
    {
      "cell_type": "markdown",
      "metadata": {
        "id": "7Wun5n8t-dUq"
      },
      "source": [
        "\n",
        "\n",
        "Q.3B) Can we replace missing 'dish_liked' with 'menu_list' values?\n",
        "\n",
        "Before we moving further review lists containts different character we first need to encode to UTF-8 then decode to ASCII code. Below is blog to basically understand UTF-8 and ASCII."
      ]
    },
    {
      "cell_type": "code",
      "metadata": {
        "id": "DlX3V40k-H5Y"
      },
      "source": [
        "# https://stackoverflow.com/questions/2365411/convert-unicode-to-ascii-without-errors-in-python        \n",
        "# https://stackoverflow.com/questions/12053107/test-a-string-if-its-unicode-which-utf-standard-is-and-get-its-length-in-bytes\n",
        "# https://stackoverflow.com/questions/48006240/how-to-convert-unicode-string-into-normal-text-in-python\n",
        "# https://stackoverflow.com/questions/4987327/how-do-i-check-if-a-string-is-unicode-or-ascii\n",
        "#As we replace review_rate into missing rate values can we do the same here.\n",
        "#Q.3B) Can we replace missing 'dish_liked' with 'menu_list' values?\n",
        "\n",
        "#Before we moving further review lists containts different character we first need to encode to UTF-8 then decode to ASCII code. Below is blog to basically understand UTF-8 and ASCII.\n",
        "def clear_text(t):\n",
        "  return ' '.join([i[1] for i in t]).encode('utf8').decode('ascii',errors='replace')\n",
        "    "
      ],
      "execution_count": null,
      "outputs": []
    },
    {
      "cell_type": "code",
      "metadata": {
        "id": "2M6X7__c-jWM"
      },
      "source": [
        "df['process_text'] = df.reviews_list.apply(lambda x: clear_text(x))"
      ],
      "execution_count": null,
      "outputs": []
    },
    {
      "cell_type": "code",
      "metadata": {
        "colab": {
          "base_uri": "https://localhost:8080/"
        },
        "id": "v3CQ04vT_HKR",
        "outputId": "f61540e7-ca16-4c96-882b-6c2db2623a45"
      },
      "source": [
        "df['process_text']"
      ],
      "execution_count": null,
      "outputs": [
        {
          "output_type": "execute_result",
          "data": {
            "text/plain": [
              "0        RATED\\n  A beautiful place to dine in.The inte...\n",
              "1        RATED\\n  Had been here for dinner with family....\n",
              "2        RATED\\n  Ambience is not that good enough and ...\n",
              "3        RATED\\n  Great food and proper Karnataka style...\n",
              "4        RATED\\n  Very good restaurant in neighbourhood...\n",
              "                               ...                        \n",
              "19993    RATED\\n  paneer Manchurian had 6 pieces of pan...\n",
              "19994    RATED\\n  It's been 4 years we have been visiti...\n",
              "19995    RATED\\n  Amazing ambience. Good place to spend...\n",
              "19996    RATED\\n  It's a medium size hotel. We ordered ...\n",
              "19997    RATED\\n  I'm not a big fan of extra sweets sha...\n",
              "Name: process_text, Length: 14950, dtype: object"
            ]
          },
          "metadata": {},
          "execution_count": 46
        }
      ]
    },
    {
      "cell_type": "markdown",
      "metadata": {
        "id": "lkTaBxcv_UHA"
      },
      "source": [
        "We can see that we need to cleanup text because it content different characters \",:-\\n\\\" . This kind of characters are present in text, we need to clean up those characters."
      ]
    },
    {
      "cell_type": "code",
      "metadata": {
        "id": "KGTBiCS4_K8O"
      },
      "source": [
        "# here we removed all above mentioned characters\n",
        "\n",
        "df['process_text'] = df.process_text.apply(lambda x : x.replace(\"RATED\\n  \",'').replace('?','').replace('�','').replace('\\n','').replace('.',' ').strip().lower())"
      ],
      "execution_count": null,
      "outputs": []
    },
    {
      "cell_type": "code",
      "metadata": {
        "colab": {
          "base_uri": "https://localhost:8080/",
          "height": 192
        },
        "id": "JVkT5vhU_esI",
        "outputId": "3f3070fd-4a03-41f1-81e6-1092294d7b6e"
      },
      "source": [
        "# check part of reviews text for the first restaurant\n",
        "df.process_text[0]"
      ],
      "execution_count": null,
      "outputs": [
        {
          "output_type": "execute_result",
          "data": {
            "application/vnd.google.colaboratory.intrinsic+json": {
              "type": "string"
            },
            "text/plain": [
              "'a beautiful place to dine in the interiors take you back to the mughal era  the lightings are just perfect we went there on the occasion of christmas and so they had only limited items available  but the taste and service was not compromised at all the only complaint is that the breads could have been better would surely like to come here again  i was here for dinner with my family on a weekday  the restaurant was completely empty  ambience is good with some good old hindi music  seating arrangement are good too  we ordered masala papad, panner and baby corn starters, lemon and corrionder soup, butter roti, olive and chilli paratha  food was fresh and good, service is good too  good for family hangout cheers its a restaurant near to banashankari bda  me along with few of my office friends visited to have buffet but unfortunately they only provide veg buffet  on inquiring they said this place is mostly visited by vegetarians  anyways we ordered ala carte items which took ages to come  food was ok ok  definitely not visiting anymore  we went here on a weekend and one of us had the buffet while two of us took ala carte  firstly the ambience and service of this place is great! the buffet had a lot of items and the good was good  we had a pumpkin halwa intm the dessert which was amazing  must try! the kulchas are great here  cheers! the best thing about the place is its ambiance  second best thing was yummy  food  we try buffet and buffet food was not disappointed us test       quality    service: staff was very professional and friendly overall experience was excellent subirmajumder85 wixsite com great food and pleasant ambience  expensive but coll place to chill and relax      service is really very very good and friendly staff   food : 5/5service : 5/5ambience :5/5overall :5/5 good ambience with tasty food cheese chilli paratha with bhutta palak methi curry is a good combo lemon chicken in the starters is a must try item egg fried rice was also quite tasty in the mocktails, recommend \"alice in junoon\"  do not miss it  you cant go wrong with jalsa  never been a fan of their buffet and thus always order alacarte  service at times can be on the slower side but food is worth the wait  overdelighted by the service and food provided at this place  a royal and ethnic atmosphere builds a strong essence of being in india and also the quality and taste of food is truly authentic  i would totally recommend to visit this place once  the place is nice and comfortable  food wise all jalea outlets maintain a good standard  the soya chaap was a standout dish  clearly one of trademark dish as per me and a must try the only concern is the parking  it very congested and limited to just 5cars  the basement parking is very steep and makes it cumbersome the place is nice and comfortable  food wise all jalea outlets maintain a good standard  the soya chaap was a standout dish  clearly one of trademark dish as per me and a must try the only concern is the parking  it very congested and limited to just 5cars  the basement parking is very steep and makes it cumbersome the place is nice and comfortable  food wise all jalea outlets maintain a good standard  the soya chaap was a standout dish  clearly one of trademark dish as per me and a must try the only concern is the parking  it very congested and limited to just 5cars  the basement parking is very steep and makes it cumbersome'"
            ]
          },
          "metadata": {},
          "execution_count": 48
        }
      ]
    },
    {
      "cell_type": "markdown",
      "metadata": {
        "id": "lvngA7hw_th7"
      },
      "source": [
        "If we try to read this review we can we can come to conclusion this text is enough to give restaurant rating. Also in this review some customer provide dishes name which they loved.\n",
        "\n",
        "Eg: \"lemon chicken\", \"chilli paratha food was fresh\", \"palak methi curry is a good\" , \"masala papad, panner and baby corn starters, lemon and corrionder soup, butter roti, olive and chilli paratha food was fresh\".\n",
        "\n",
        "So we can use this values and try to fill missing 'dish_liked' values."
      ]
    },
    {
      "cell_type": "markdown",
      "metadata": {
        "id": "2enTc3j2_ybU"
      },
      "source": [
        "\n",
        "Clean up dist_like\n",
        "\n",
        "convert text to lower case.\n",
        "missing value could extract from review_list"
      ]
    },
    {
      "cell_type": "code",
      "metadata": {
        "colab": {
          "base_uri": "https://localhost:8080/"
        },
        "id": "9lIfdFMo_pAo",
        "outputId": "be2dcf60-60ee-498d-ff6c-02e627a233f5"
      },
      "source": [
        "df.dish_liked.nunique()"
      ],
      "execution_count": null,
      "outputs": [
        {
          "output_type": "execute_result",
          "data": {
            "text/plain": [
              "3360"
            ]
          },
          "metadata": {},
          "execution_count": 49
        }
      ]
    },
    {
      "cell_type": "code",
      "metadata": {
        "id": "Z6tVrrZH_2nm"
      },
      "source": [
        "# make lower case\n",
        "df.dish_liked = df.dish_liked.apply(lambda x:x.lower().strip() if isinstance(x,str) else x)"
      ],
      "execution_count": null,
      "outputs": []
    },
    {
      "cell_type": "code",
      "metadata": {
        "colab": {
          "base_uri": "https://localhost:8080/"
        },
        "id": "xFyaGwHD_9Yc",
        "outputId": "8e1f653d-28fc-4d88-b885-d7165bb191c2"
      },
      "source": [
        "# example\n",
        "df.dish_liked[10000]"
      ],
      "execution_count": null,
      "outputs": [
        {
          "output_type": "execute_result",
          "data": {
            "text/plain": [
              "nan"
            ]
          },
          "metadata": {},
          "execution_count": 51
        }
      ]
    },
    {
      "cell_type": "code",
      "metadata": {
        "colab": {
          "base_uri": "https://localhost:8080/"
        },
        "id": "En2hvhBrABWT",
        "outputId": "49ea51cf-1848-4236-c34d-b7a7d7fcc69c"
      },
      "source": [
        "# As we discussed above here we are using 'menu_set' and 'process_text' data. Put it into liked dishes list.\n",
        "menu_set.intersection(df.process_text[10000].split(' '))"
      ],
      "execution_count": null,
      "outputs": [
        {
          "output_type": "execute_result",
          "data": {
            "text/plain": [
              "{'chicken', 'fish', 'rice', 'thali'}"
            ]
          },
          "metadata": {},
          "execution_count": 52
        }
      ]
    },
    {
      "cell_type": "code",
      "metadata": {
        "id": "Ff-a4M_LAPgC"
      },
      "source": [
        "#creat a new column for the reviewed dish\n",
        "df['dish_n_review'] = df.process_text.apply(lambda x: ', '.join(list(menu_set.intersection(x.split(' ')))))"
      ],
      "execution_count": null,
      "outputs": []
    },
    {
      "cell_type": "code",
      "metadata": {
        "colab": {
          "base_uri": "https://localhost:8080/",
          "height": 206
        },
        "id": "J1x2e2pyAUv4",
        "outputId": "d753b36a-ad16-487b-92e9-c7412c933496"
      },
      "source": [
        "# https://stackoverflow.com/questions/26535563/querying-for-nan-and-other-names-in-pandas\n",
        "\n",
        "# get sample to compare\n",
        "df.query('dish_liked != dish_liked')[['dish_liked','dish_n_review']].sample(5,random_state=1)"
      ],
      "execution_count": null,
      "outputs": [
        {
          "output_type": "execute_result",
          "data": {
            "text/html": [
              "<div>\n",
              "<style scoped>\n",
              "    .dataframe tbody tr th:only-of-type {\n",
              "        vertical-align: middle;\n",
              "    }\n",
              "\n",
              "    .dataframe tbody tr th {\n",
              "        vertical-align: top;\n",
              "    }\n",
              "\n",
              "    .dataframe thead th {\n",
              "        text-align: right;\n",
              "    }\n",
              "</style>\n",
              "<table border=\"1\" class=\"dataframe\">\n",
              "  <thead>\n",
              "    <tr style=\"text-align: right;\">\n",
              "      <th></th>\n",
              "      <th>dish_liked</th>\n",
              "      <th>dish_n_review</th>\n",
              "    </tr>\n",
              "  </thead>\n",
              "  <tbody>\n",
              "    <tr>\n",
              "      <th>10323</th>\n",
              "      <td>NaN</td>\n",
              "      <td>sandwiches, breads, cheesecake</td>\n",
              "    </tr>\n",
              "    <tr>\n",
              "      <th>18326</th>\n",
              "      <td>NaN</td>\n",
              "      <td></td>\n",
              "    </tr>\n",
              "    <tr>\n",
              "      <th>9481</th>\n",
              "      <td>NaN</td>\n",
              "      <td>rajma, chicken, thali, roti, biryani, rice, lu...</td>\n",
              "    </tr>\n",
              "    <tr>\n",
              "      <th>3975</th>\n",
              "      <td>NaN</td>\n",
              "      <td></td>\n",
              "    </tr>\n",
              "    <tr>\n",
              "      <th>10289</th>\n",
              "      <td>NaN</td>\n",
              "      <td>rasgulla</td>\n",
              "    </tr>\n",
              "  </tbody>\n",
              "</table>\n",
              "</div>"
            ],
            "text/plain": [
              "      dish_liked                                      dish_n_review\n",
              "10323        NaN                     sandwiches, breads, cheesecake\n",
              "18326        NaN                                                   \n",
              "9481         NaN  rajma, chicken, thali, roti, biryani, rice, lu...\n",
              "3975         NaN                                                   \n",
              "10289        NaN                                           rasgulla"
            ]
          },
          "metadata": {},
          "execution_count": 54
        }
      ]
    },
    {
      "cell_type": "markdown",
      "metadata": {
        "id": "lv4ZeJh3Ag5D"
      },
      "source": [
        "So now, we can replace this missed values from the dish_n_review"
      ]
    },
    {
      "cell_type": "code",
      "metadata": {
        "id": "DT8KX0xQAacK"
      },
      "source": [
        "# fill in the missing values in dish_liked column with data from reviews\n",
        "nan_index = df.query('dish_liked != dish_liked & dish_n_review == dish_n_review').index\n",
        "for i in nan_index:\n",
        "    df.loc[i,'dish_liked'] = df.loc[i,'dish_n_review']"
      ],
      "execution_count": null,
      "outputs": []
    },
    {
      "cell_type": "code",
      "metadata": {
        "colab": {
          "base_uri": "https://localhost:8080/",
          "height": 35
        },
        "id": "r_r2SnAKAupc",
        "outputId": "1f16ac44-ffff-45eb-a260-9a61550ee197"
      },
      "source": [
        "# Now let's test our work\n",
        "df.dish_liked[10000]"
      ],
      "execution_count": null,
      "outputs": [
        {
          "output_type": "execute_result",
          "data": {
            "application/vnd.google.colaboratory.intrinsic+json": {
              "type": "string"
            },
            "text/plain": [
              "'chicken, fish, rice, thali'"
            ]
          },
          "metadata": {},
          "execution_count": 56
        }
      ]
    },
    {
      "cell_type": "markdown",
      "metadata": {
        "id": "HpBUu_e4A4SC"
      },
      "source": [
        "Now we can drop the menu_list & menu_set"
      ]
    },
    {
      "cell_type": "code",
      "metadata": {
        "id": "UZA0jvkOA3Ii"
      },
      "source": [
        "del menu_list\n",
        "del menu_set"
      ],
      "execution_count": null,
      "outputs": []
    },
    {
      "cell_type": "code",
      "metadata": {
        "id": "lhTKwYueA798"
      },
      "source": [
        "# first let's drop the review_rate column now\n",
        "df.drop(columns=['dish_n_review'],axis=1,inplace=True)"
      ],
      "execution_count": null,
      "outputs": []
    },
    {
      "cell_type": "code",
      "metadata": {
        "colab": {
          "base_uri": "https://localhost:8080/"
        },
        "id": "Oq4VfgvDA--v",
        "outputId": "e3da5531-0caa-484d-8d43-ea004d992361"
      },
      "source": [
        "# check for null values\n",
        "((df.isna().sum()/df.shape[0])*100).round(3)"
      ],
      "execution_count": null,
      "outputs": [
        {
          "output_type": "execute_result",
          "data": {
            "text/plain": [
              "name               0.000\n",
              "online_order       0.000\n",
              "book_table         0.000\n",
              "rate               0.000\n",
              "votes              0.000\n",
              "location           0.000\n",
              "rest_type          0.381\n",
              "dish_liked         0.000\n",
              "cuisines           0.000\n",
              "average_cost       0.000\n",
              "reviews_list       0.000\n",
              "menu_item          0.000\n",
              "listed_in(type)    0.000\n",
              "process_text       0.000\n",
              "dtype: float64"
            ]
          },
          "metadata": {},
          "execution_count": 59
        }
      ]
    },
    {
      "cell_type": "code",
      "metadata": {
        "colab": {
          "base_uri": "https://localhost:8080/"
        },
        "id": "895mP6VRBGYv",
        "outputId": "14a48c79-31f8-47ae-de9f-f97f4fc9c07b"
      },
      "source": [
        "df.shape"
      ],
      "execution_count": null,
      "outputs": [
        {
          "output_type": "execute_result",
          "data": {
            "text/plain": [
              "(14950, 14)"
            ]
          },
          "metadata": {},
          "execution_count": 60
        }
      ]
    },
    {
      "cell_type": "markdown",
      "metadata": {
        "id": "ZISGrvI2BQDk"
      },
      "source": [
        "Now thing looked quite good. There is no missing values."
      ]
    },
    {
      "cell_type": "markdown",
      "metadata": {
        "id": "y3CJDZPEBVXW"
      },
      "source": [
        "2.1.2 Data Visualizations¶\n",
        "Q.4) What is distrubution of 'Rate column'?\n",
        "\n",
        "Now it is fine, now we can proceed."
      ]
    },
    {
      "cell_type": "markdown",
      "metadata": {
        "id": "Pkm2J8r_Eary"
      },
      "source": [
        "Before we dive in remember that at initial stages we observe that dist_like colomn has some missing values. so first remove missing values then proceed.\n",
        "\n"
      ]
    },
    {
      "cell_type": "code",
      "metadata": {
        "id": "_E5pwwJ_ES5D"
      },
      "source": [
        "#lets delete the nulll values\n",
        "\n",
        "df1 = df.copy()\n",
        "\n",
        "dishes_data = df1[df1.dish_liked.notnull()]\n",
        "dishes_data.dish_liked = dishes_data.dish_liked.apply(lambda x:x.lower().strip())"
      ],
      "execution_count": null,
      "outputs": []
    },
    {
      "cell_type": "code",
      "metadata": {
        "colab": {
          "base_uri": "https://localhost:8080/"
        },
        "id": "vzIQ64ToEewg",
        "outputId": "4accec3b-72d2-4b2d-840a-69c3244b3cc3"
      },
      "source": [
        "dishes_data.isnull().sum()"
      ],
      "execution_count": null,
      "outputs": [
        {
          "output_type": "execute_result",
          "data": {
            "text/plain": [
              "name                0\n",
              "online_order        0\n",
              "book_table          0\n",
              "rate                0\n",
              "votes               0\n",
              "location            0\n",
              "rest_type          57\n",
              "dish_liked          0\n",
              "cuisines            0\n",
              "average_cost        0\n",
              "reviews_list        0\n",
              "menu_item           0\n",
              "listed_in(type)     0\n",
              "process_text        0\n",
              "dtype: int64"
            ]
          },
          "metadata": {},
          "execution_count": 62
        }
      ]
    },
    {
      "cell_type": "code",
      "metadata": {
        "colab": {
          "base_uri": "https://localhost:8080/"
        },
        "id": "GTtU22vwEqLC",
        "outputId": "01a2bff9-b0f9-43a9-c9fb-3324c10d34fb"
      },
      "source": [
        "dishes_data.dish_liked[:10]"
      ],
      "execution_count": null,
      "outputs": [
        {
          "output_type": "execute_result",
          "data": {
            "text/plain": [
              "0    pasta, lunch buffet, masala papad, paneer laja...\n",
              "1    momos, lunch buffet, chocolate nirvana, thai g...\n",
              "2    churros, cannelloni, minestrone soup, hot choc...\n",
              "3                                          masala dosa\n",
              "4                                  panipuri, gol gappe\n",
              "5    onion rings, pasta, kadhai paneer, salads, sal...\n",
              "6                                              chicken\n",
              "7    farmhouse pizza, chocolate banana, virgin moji...\n",
              "8    pizza, mocktails, coffee, nachos, salad, pasta...\n",
              "9    waffles, pasta, coleslaw sandwich, choco waffl...\n",
              "Name: dish_liked, dtype: object"
            ]
          },
          "metadata": {},
          "execution_count": 63
        }
      ]
    },
    {
      "cell_type": "markdown",
      "metadata": {
        "id": "Hnbl0-quExpk"
      },
      "source": [
        "We can see that each row has contained multiple dishes separated by \"commma\"."
      ]
    },
    {
      "cell_type": "code",
      "metadata": {
        "id": "YSmnRSm1EtwC"
      },
      "source": [
        "# count each dish to see how many times each dish repeated\n",
        "dish_count = []\n",
        "for i in dishes_data.dish_liked: ## iterate in each rows in table\n",
        "    for t in i.split(','):\n",
        "        t = t.strip() # remove the white spaces to get accurate results\n",
        "        dish_count.append(t)"
      ],
      "execution_count": null,
      "outputs": []
    },
    {
      "cell_type": "code",
      "metadata": {
        "colab": {
          "base_uri": "https://localhost:8080/"
        },
        "id": "edXRMaLME0-2",
        "outputId": "68fbae3e-c083-4702-cb88-dffdc301d169"
      },
      "source": [
        "dish_count[:10] #lets see favourite top 10 dishes"
      ],
      "execution_count": null,
      "outputs": [
        {
          "output_type": "execute_result",
          "data": {
            "text/plain": [
              "['pasta',\n",
              " 'lunch buffet',\n",
              " 'masala papad',\n",
              " 'paneer lajawab',\n",
              " 'tomato shorba',\n",
              " 'dum biryani',\n",
              " 'sweet corn soup',\n",
              " 'momos',\n",
              " 'lunch buffet',\n",
              " 'chocolate nirvana']"
            ]
          },
          "metadata": {},
          "execution_count": 65
        }
      ]
    },
    {
      "cell_type": "markdown",
      "metadata": {
        "id": "eEgQfokSFkoU"
      },
      "source": [
        "Q.10) Print top 10 Cuisines"
      ]
    },
    {
      "cell_type": "code",
      "metadata": {
        "id": "0lVM2FvUFWKi"
      },
      "source": [
        "cuisines_data = df[df.cuisines.notnull()]\n",
        "cuisines_data.cuisines = cuisines_data.cuisines.apply(lambda x:x.lower().strip())"
      ],
      "execution_count": null,
      "outputs": []
    },
    {
      "cell_type": "code",
      "metadata": {
        "id": "4WZDvBu7FppJ"
      },
      "source": [
        "cuisines_count= []\n",
        "\n",
        "for i in cuisines_data.cuisines:\n",
        "    for j in i.split(','):\n",
        "        j = j.strip()\n",
        "        cuisines_count.append(j)"
      ],
      "execution_count": null,
      "outputs": []
    },
    {
      "cell_type": "markdown",
      "metadata": {
        "id": "DVAX6DpgGDgz"
      },
      "source": [
        "Q.11) Lets plot 'Rate' vs 'Online order'"
      ]
    },
    {
      "cell_type": "markdown",
      "metadata": {
        "id": "8WZbS7H-GVh9"
      },
      "source": [
        "3. Model\n",
        "\n",
        "Till now we were understanding, visualising data. Now let move to build proper Machine Learning model."
      ]
    },
    {
      "cell_type": "code",
      "metadata": {
        "colab": {
          "base_uri": "https://localhost:8080/",
          "height": 1000
        },
        "id": "gOcUaSAqGG5S",
        "outputId": "f9335d06-863c-4baa-fe1c-890b8d9d0da3"
      },
      "source": [
        "# pd.get_dummies ==> Convert categorical variable into dummy/indicator variables.(OneHot encoding)\n",
        "\n",
        "df['online_order']= pd.get_dummies(df.online_order, drop_first=True)\n",
        "df['book_table']= pd.get_dummies(df.book_table, drop_first=True)\n",
        "df"
      ],
      "execution_count": null,
      "outputs": [
        {
          "output_type": "execute_result",
          "data": {
            "text/html": [
              "<div>\n",
              "<style scoped>\n",
              "    .dataframe tbody tr th:only-of-type {\n",
              "        vertical-align: middle;\n",
              "    }\n",
              "\n",
              "    .dataframe tbody tr th {\n",
              "        vertical-align: top;\n",
              "    }\n",
              "\n",
              "    .dataframe thead th {\n",
              "        text-align: right;\n",
              "    }\n",
              "</style>\n",
              "<table border=\"1\" class=\"dataframe\">\n",
              "  <thead>\n",
              "    <tr style=\"text-align: right;\">\n",
              "      <th></th>\n",
              "      <th>name</th>\n",
              "      <th>online_order</th>\n",
              "      <th>book_table</th>\n",
              "      <th>rate</th>\n",
              "      <th>votes</th>\n",
              "      <th>location</th>\n",
              "      <th>rest_type</th>\n",
              "      <th>dish_liked</th>\n",
              "      <th>cuisines</th>\n",
              "      <th>average_cost</th>\n",
              "      <th>reviews_list</th>\n",
              "      <th>menu_item</th>\n",
              "      <th>listed_in(type)</th>\n",
              "      <th>process_text</th>\n",
              "    </tr>\n",
              "  </thead>\n",
              "  <tbody>\n",
              "    <tr>\n",
              "      <th>0</th>\n",
              "      <td>Jalsa</td>\n",
              "      <td>1</td>\n",
              "      <td>1</td>\n",
              "      <td>4.1</td>\n",
              "      <td>775</td>\n",
              "      <td>Banashankari</td>\n",
              "      <td>Casual Dining</td>\n",
              "      <td>pasta, lunch buffet, masala papad, paneer laja...</td>\n",
              "      <td>North Indian, Mughlai, Chinese</td>\n",
              "      <td>800</td>\n",
              "      <td>[(Rated 4.0, RATED\\n  A beautiful place to din...</td>\n",
              "      <td>[]</td>\n",
              "      <td>Buffet</td>\n",
              "      <td>a beautiful place to dine in the interiors tak...</td>\n",
              "    </tr>\n",
              "    <tr>\n",
              "      <th>1</th>\n",
              "      <td>Spice Elephant</td>\n",
              "      <td>1</td>\n",
              "      <td>0</td>\n",
              "      <td>4.1</td>\n",
              "      <td>787</td>\n",
              "      <td>Banashankari</td>\n",
              "      <td>Casual Dining</td>\n",
              "      <td>momos, lunch buffet, chocolate nirvana, thai g...</td>\n",
              "      <td>Chinese, North Indian, Thai</td>\n",
              "      <td>800</td>\n",
              "      <td>[(Rated 4.0, RATED\\n  Had been here for dinner...</td>\n",
              "      <td>[]</td>\n",
              "      <td>Buffet</td>\n",
              "      <td>had been here for dinner with family  turned o...</td>\n",
              "    </tr>\n",
              "    <tr>\n",
              "      <th>2</th>\n",
              "      <td>San Churro Cafe</td>\n",
              "      <td>1</td>\n",
              "      <td>0</td>\n",
              "      <td>3.8</td>\n",
              "      <td>918</td>\n",
              "      <td>Banashankari</td>\n",
              "      <td>Cafe, Casual Dining</td>\n",
              "      <td>churros, cannelloni, minestrone soup, hot choc...</td>\n",
              "      <td>Cafe, Mexican, Italian</td>\n",
              "      <td>800</td>\n",
              "      <td>[(Rated 3.0, RATED\\n  Ambience is not that goo...</td>\n",
              "      <td>[]</td>\n",
              "      <td>Buffet</td>\n",
              "      <td>ambience is not that good enough and it's not ...</td>\n",
              "    </tr>\n",
              "    <tr>\n",
              "      <th>3</th>\n",
              "      <td>Addhuri Udupi Bhojana</td>\n",
              "      <td>0</td>\n",
              "      <td>0</td>\n",
              "      <td>3.7</td>\n",
              "      <td>88</td>\n",
              "      <td>Banashankari</td>\n",
              "      <td>Quick Bites</td>\n",
              "      <td>masala dosa</td>\n",
              "      <td>South Indian, North Indian</td>\n",
              "      <td>300</td>\n",
              "      <td>[(Rated 4.0, RATED\\n  Great food and proper Ka...</td>\n",
              "      <td>[]</td>\n",
              "      <td>Buffet</td>\n",
              "      <td>great food and proper karnataka style full mea...</td>\n",
              "    </tr>\n",
              "    <tr>\n",
              "      <th>4</th>\n",
              "      <td>Grand Village</td>\n",
              "      <td>0</td>\n",
              "      <td>0</td>\n",
              "      <td>3.8</td>\n",
              "      <td>166</td>\n",
              "      <td>Basavanagudi</td>\n",
              "      <td>Casual Dining</td>\n",
              "      <td>panipuri, gol gappe</td>\n",
              "      <td>North Indian, Rajasthani</td>\n",
              "      <td>600</td>\n",
              "      <td>[(Rated 4.0, RATED\\n  Very good restaurant in ...</td>\n",
              "      <td>[]</td>\n",
              "      <td>Buffet</td>\n",
              "      <td>very good restaurant in neighbourhood  buffet ...</td>\n",
              "    </tr>\n",
              "    <tr>\n",
              "      <th>...</th>\n",
              "      <td>...</td>\n",
              "      <td>...</td>\n",
              "      <td>...</td>\n",
              "      <td>...</td>\n",
              "      <td>...</td>\n",
              "      <td>...</td>\n",
              "      <td>...</td>\n",
              "      <td>...</td>\n",
              "      <td>...</td>\n",
              "      <td>...</td>\n",
              "      <td>...</td>\n",
              "      <td>...</td>\n",
              "      <td>...</td>\n",
              "      <td>...</td>\n",
              "    </tr>\n",
              "    <tr>\n",
              "      <th>19993</th>\n",
              "      <td>Ruchis Point</td>\n",
              "      <td>1</td>\n",
              "      <td>0</td>\n",
              "      <td>3.8</td>\n",
              "      <td>75</td>\n",
              "      <td>Banashankari</td>\n",
              "      <td>Quick Bites</td>\n",
              "      <td>sandwiches, noodles, sandwich</td>\n",
              "      <td>Fast Food, Chinese</td>\n",
              "      <td>200</td>\n",
              "      <td>[(Rated 2.0, RATED\\n  paneer Manchurian had 6 ...</td>\n",
              "      <td>['Aloo Manchurian', 'Gobi Manchurian', 'Mushro...</td>\n",
              "      <td>Delivery</td>\n",
              "      <td>paneer manchurian had 6 pieces of paneer for 8...</td>\n",
              "    </tr>\n",
              "    <tr>\n",
              "      <th>19994</th>\n",
              "      <td>Funky Punjab</td>\n",
              "      <td>1</td>\n",
              "      <td>0</td>\n",
              "      <td>3.9</td>\n",
              "      <td>410</td>\n",
              "      <td>JP Nagar</td>\n",
              "      <td>Casual Dining</td>\n",
              "      <td>lassi, chole, palak paneer, chaap, paneer tikk...</td>\n",
              "      <td>North Indian, Chinese</td>\n",
              "      <td>500</td>\n",
              "      <td>[(Rated 4.0, RATED\\n  It's been 4 years we hav...</td>\n",
              "      <td>['Paneer Tikka', 'Gobi Manchurian', 'Paneer Ch...</td>\n",
              "      <td>Delivery</td>\n",
              "      <td>it's been 4 years we have been visiting this j...</td>\n",
              "    </tr>\n",
              "    <tr>\n",
              "      <th>19995</th>\n",
              "      <td>Mudpipe Cafe</td>\n",
              "      <td>1</td>\n",
              "      <td>1</td>\n",
              "      <td>4.5</td>\n",
              "      <td>1878</td>\n",
              "      <td>BTM</td>\n",
              "      <td>Cafe</td>\n",
              "      <td>chaat, nachos, peri peri pizza, wedges, milk s...</td>\n",
              "      <td>Cafe, Continental, Burger</td>\n",
              "      <td>900</td>\n",
              "      <td>[(Rated 4.0, RATED\\n  Amazing ambience. Good p...</td>\n",
              "      <td>['Crispy Spinach Corn Cheese Stick', 'Alfredo ...</td>\n",
              "      <td>Delivery</td>\n",
              "      <td>amazing ambience  good place to spend some sob...</td>\n",
              "    </tr>\n",
              "    <tr>\n",
              "      <th>19996</th>\n",
              "      <td>Alif Restaurant</td>\n",
              "      <td>1</td>\n",
              "      <td>0</td>\n",
              "      <td>3.6</td>\n",
              "      <td>27</td>\n",
              "      <td>JP Nagar</td>\n",
              "      <td>Casual Dining</td>\n",
              "      <td></td>\n",
              "      <td>North Indian, Chinese</td>\n",
              "      <td>600</td>\n",
              "      <td>[(Rated 3.0, RATED\\n  It's a medium size hotel...</td>\n",
              "      <td>['Pepper Chicken', 'Grilled Chicken', 'Dum Bri...</td>\n",
              "      <td>Delivery</td>\n",
              "      <td>it's a medium size hotel  we ordered phulka an...</td>\n",
              "    </tr>\n",
              "    <tr>\n",
              "      <th>19997</th>\n",
              "      <td>Black Deer</td>\n",
              "      <td>1</td>\n",
              "      <td>0</td>\n",
              "      <td>4.4</td>\n",
              "      <td>149</td>\n",
              "      <td>Koramangala 5th Block</td>\n",
              "      <td>Takeaway, Delivery</td>\n",
              "      <td>chocolate fudge, chocolate shake, bubble gum s...</td>\n",
              "      <td>Beverages, Desserts</td>\n",
              "      <td>350</td>\n",
              "      <td>[(Rated 4.0, RATED\\n  I'm not a big fan of ext...</td>\n",
              "      <td>['Red Velvet Ice Cream Sundaes', 'Fruit Basket...</td>\n",
              "      <td>Delivery</td>\n",
              "      <td>i'm not a big fan of extra sweets shakes but i...</td>\n",
              "    </tr>\n",
              "  </tbody>\n",
              "</table>\n",
              "<p>14950 rows × 14 columns</p>\n",
              "</div>"
            ],
            "text/plain": [
              "                        name  ...                                       process_text\n",
              "0                      Jalsa  ...  a beautiful place to dine in the interiors tak...\n",
              "1             Spice Elephant  ...  had been here for dinner with family  turned o...\n",
              "2            San Churro Cafe  ...  ambience is not that good enough and it's not ...\n",
              "3      Addhuri Udupi Bhojana  ...  great food and proper karnataka style full mea...\n",
              "4              Grand Village  ...  very good restaurant in neighbourhood  buffet ...\n",
              "...                      ...  ...                                                ...\n",
              "19993           Ruchis Point  ...  paneer manchurian had 6 pieces of paneer for 8...\n",
              "19994           Funky Punjab  ...  it's been 4 years we have been visiting this j...\n",
              "19995           Mudpipe Cafe  ...  amazing ambience  good place to spend some sob...\n",
              "19996        Alif Restaurant  ...  it's a medium size hotel  we ordered phulka an...\n",
              "19997             Black Deer  ...  i'm not a big fan of extra sweets shakes but i...\n",
              "\n",
              "[14950 rows x 14 columns]"
            ]
          },
          "metadata": {},
          "execution_count": 68
        }
      ]
    },
    {
      "cell_type": "code",
      "metadata": {
        "id": "p8WkmL0kqz8A"
      },
      "source": [
        "## saving the dataframe\n",
        "df.to_csv(\"/content/drive/MyDrive/Restaurant Rating Prediction/preprocess_data.csv\")"
      ],
      "execution_count": null,
      "outputs": []
    },
    {
      "cell_type": "markdown",
      "metadata": {
        "id": "3ZyMn5kJr3Og"
      },
      "source": [
        "5. NLP\n",
        "Till now we deal with problem, with classical machine learnining task.Can we apply some NLP techniques to learn the model? We know 'review_list' feature has user's review about restaurant. We can use this feature.\n",
        "\n",
        "5.1 Proprocessing Text features ('review list' features)"
      ]
    },
    {
      "cell_type": "code",
      "metadata": {
        "colab": {
          "base_uri": "https://localhost:8080/",
          "height": 555
        },
        "id": "jEwSZEFxrbrv",
        "outputId": "db42552e-1484-421f-ebe0-04a3ad746ab4"
      },
      "source": [
        "data = pd.read_csv(\"/content/drive/MyDrive/Restaurant Rating Prediction/preprocess_data.csv\")\n",
        "data.head()"
      ],
      "execution_count": null,
      "outputs": [
        {
          "output_type": "execute_result",
          "data": {
            "text/html": [
              "<div>\n",
              "<style scoped>\n",
              "    .dataframe tbody tr th:only-of-type {\n",
              "        vertical-align: middle;\n",
              "    }\n",
              "\n",
              "    .dataframe tbody tr th {\n",
              "        vertical-align: top;\n",
              "    }\n",
              "\n",
              "    .dataframe thead th {\n",
              "        text-align: right;\n",
              "    }\n",
              "</style>\n",
              "<table border=\"1\" class=\"dataframe\">\n",
              "  <thead>\n",
              "    <tr style=\"text-align: right;\">\n",
              "      <th></th>\n",
              "      <th>Unnamed: 0</th>\n",
              "      <th>name</th>\n",
              "      <th>online_order</th>\n",
              "      <th>book_table</th>\n",
              "      <th>rate</th>\n",
              "      <th>votes</th>\n",
              "      <th>location</th>\n",
              "      <th>rest_type</th>\n",
              "      <th>dish_liked</th>\n",
              "      <th>cuisines</th>\n",
              "      <th>average_cost</th>\n",
              "      <th>reviews_list</th>\n",
              "      <th>menu_item</th>\n",
              "      <th>listed_in(type)</th>\n",
              "      <th>process_text</th>\n",
              "    </tr>\n",
              "  </thead>\n",
              "  <tbody>\n",
              "    <tr>\n",
              "      <th>0</th>\n",
              "      <td>0</td>\n",
              "      <td>Jalsa</td>\n",
              "      <td>1</td>\n",
              "      <td>1</td>\n",
              "      <td>4.1</td>\n",
              "      <td>775</td>\n",
              "      <td>Banashankari</td>\n",
              "      <td>Casual Dining</td>\n",
              "      <td>pasta, lunch buffet, masala papad, paneer laja...</td>\n",
              "      <td>North Indian, Mughlai, Chinese</td>\n",
              "      <td>800</td>\n",
              "      <td>[('Rated 4.0', 'RATED\\n  A beautiful place to ...</td>\n",
              "      <td>[]</td>\n",
              "      <td>Buffet</td>\n",
              "      <td>a beautiful place to dine in the interiors tak...</td>\n",
              "    </tr>\n",
              "    <tr>\n",
              "      <th>1</th>\n",
              "      <td>1</td>\n",
              "      <td>Spice Elephant</td>\n",
              "      <td>1</td>\n",
              "      <td>0</td>\n",
              "      <td>4.1</td>\n",
              "      <td>787</td>\n",
              "      <td>Banashankari</td>\n",
              "      <td>Casual Dining</td>\n",
              "      <td>momos, lunch buffet, chocolate nirvana, thai g...</td>\n",
              "      <td>Chinese, North Indian, Thai</td>\n",
              "      <td>800</td>\n",
              "      <td>[('Rated 4.0', 'RATED\\n  Had been here for din...</td>\n",
              "      <td>[]</td>\n",
              "      <td>Buffet</td>\n",
              "      <td>had been here for dinner with family  turned o...</td>\n",
              "    </tr>\n",
              "    <tr>\n",
              "      <th>2</th>\n",
              "      <td>2</td>\n",
              "      <td>San Churro Cafe</td>\n",
              "      <td>1</td>\n",
              "      <td>0</td>\n",
              "      <td>3.8</td>\n",
              "      <td>918</td>\n",
              "      <td>Banashankari</td>\n",
              "      <td>Cafe, Casual Dining</td>\n",
              "      <td>churros, cannelloni, minestrone soup, hot choc...</td>\n",
              "      <td>Cafe, Mexican, Italian</td>\n",
              "      <td>800</td>\n",
              "      <td>[('Rated 3.0', \"RATED\\n  Ambience is not that ...</td>\n",
              "      <td>[]</td>\n",
              "      <td>Buffet</td>\n",
              "      <td>ambience is not that good enough and it's not ...</td>\n",
              "    </tr>\n",
              "    <tr>\n",
              "      <th>3</th>\n",
              "      <td>3</td>\n",
              "      <td>Addhuri Udupi Bhojana</td>\n",
              "      <td>0</td>\n",
              "      <td>0</td>\n",
              "      <td>3.7</td>\n",
              "      <td>88</td>\n",
              "      <td>Banashankari</td>\n",
              "      <td>Quick Bites</td>\n",
              "      <td>masala dosa</td>\n",
              "      <td>South Indian, North Indian</td>\n",
              "      <td>300</td>\n",
              "      <td>[('Rated 4.0', \"RATED\\n  Great food and proper...</td>\n",
              "      <td>[]</td>\n",
              "      <td>Buffet</td>\n",
              "      <td>great food and proper karnataka style full mea...</td>\n",
              "    </tr>\n",
              "    <tr>\n",
              "      <th>4</th>\n",
              "      <td>4</td>\n",
              "      <td>Grand Village</td>\n",
              "      <td>0</td>\n",
              "      <td>0</td>\n",
              "      <td>3.8</td>\n",
              "      <td>166</td>\n",
              "      <td>Basavanagudi</td>\n",
              "      <td>Casual Dining</td>\n",
              "      <td>panipuri, gol gappe</td>\n",
              "      <td>North Indian, Rajasthani</td>\n",
              "      <td>600</td>\n",
              "      <td>[('Rated 4.0', 'RATED\\n  Very good restaurant ...</td>\n",
              "      <td>[]</td>\n",
              "      <td>Buffet</td>\n",
              "      <td>very good restaurant in neighbourhood  buffet ...</td>\n",
              "    </tr>\n",
              "  </tbody>\n",
              "</table>\n",
              "</div>"
            ],
            "text/plain": [
              "   Unnamed: 0  ...                                       process_text\n",
              "0           0  ...  a beautiful place to dine in the interiors tak...\n",
              "1           1  ...  had been here for dinner with family  turned o...\n",
              "2           2  ...  ambience is not that good enough and it's not ...\n",
              "3           3  ...  great food and proper karnataka style full mea...\n",
              "4           4  ...  very good restaurant in neighbourhood  buffet ...\n",
              "\n",
              "[5 rows x 15 columns]"
            ]
          },
          "metadata": {},
          "execution_count": 70
        }
      ]
    },
    {
      "cell_type": "code",
      "metadata": {
        "colab": {
          "base_uri": "https://localhost:8080/"
        },
        "id": "G_pTw-eZsh4N",
        "outputId": "4f76545b-d45e-44c7-c8ef-d61d8cd048d8"
      },
      "source": [
        "import nltk\n",
        "nltk.download('stopwords')\n",
        "import re\n",
        "\n",
        "  "
      ],
      "execution_count": null,
      "outputs": [
        {
          "output_type": "stream",
          "name": "stdout",
          "text": [
            "[nltk_data] Downloading package stopwords to /root/nltk_data...\n",
            "[nltk_data]   Unzipping corpora/stopwords.zip.\n"
          ]
        }
      ]
    },
    {
      "cell_type": "code",
      "metadata": {
        "id": "RDKA3yYYr98g"
      },
      "source": [
        "from bs4 import BeautifulSoup\n",
        "# Combining all the above stundents \n",
        "from tqdm import tqdm\n",
        "# tqdm is for printing the status bar\n",
        "word_counter = []\n",
        "\n",
        "stop_words = set(stopwords.words('english')) \n",
        "\n",
        "def filterised_text(text):\n",
        "    preprocessed_text = []\n",
        "    for sentance in tqdm(text):\n",
        "        sentance = re.sub('[0-9]+', '', sentance)\n",
        "        sentance = re.sub('[^A-Za-z0-9]+', ' ', sentance)\n",
        "        sentance = re.sub(r\"http\\S+\", \"\", sentance)\n",
        "        sentance = BeautifulSoup(sentance, 'lxml').get_text()\n",
        "        sentance = decontracted(sentance)\n",
        "        sentance = re.sub(\"\\S*\\d\\S*\", \"\", sentance).strip()\n",
        "        sentance = re.sub('[^A-Za-z]+', ' ', sentance)\n",
        "        sentance = ' '.join(word.lower() for word in sentance.split() if len(word)>1 and word.lower() not in stop_words)\n",
        "        sentance = re.sub(r\"rated\", \"\", sentance)\n",
        "        count = len(sentance.split())\n",
        "        word_counter.append(count)\n",
        "        preprocessed_text.append(sentance.strip())\n",
        "    return preprocessed_text\n",
        "\n",
        "\n",
        "\n",
        "def decontracted(phrase):\n",
        "    # specific\n",
        "    phrase = re.sub(r\"won't\", \"will not\", phrase)\n",
        "    phrase = re.sub(r\"can\\'t\", \"can not\", phrase)\n",
        "\n",
        "    # general\n",
        "    phrase = re.sub(r\"n\\'t\", \" not\", phrase)\n",
        "    phrase = re.sub(r\"\\'re\", \" are\", phrase)\n",
        "    phrase = re.sub(r\"\\'s\", \" is\", phrase)\n",
        "    phrase = re.sub(r\"\\'d\", \" would\", phrase)\n",
        "    phrase = re.sub(r\"\\'ll\", \" will\", phrase)\n",
        "    phrase = re.sub(r\"\\'t\", \" not\", phrase)\n",
        "    phrase = re.sub(r\"\\'ve\", \" have\", phrase)\n",
        "    phrase = re.sub(r\"\\'m\", \" am\", phrase)\n",
        "    return phrase"
      ],
      "execution_count": null,
      "outputs": []
    },
    {
      "cell_type": "code",
      "metadata": {
        "colab": {
          "base_uri": "https://localhost:8080/",
          "height": 105
        },
        "id": "BDeacn45sLY4",
        "outputId": "b4a6ebec-f743-4cfa-99cc-bd1a561cff07"
      },
      "source": [
        "preprocessed_reviews = filterised_text(data['reviews_list'].values)\n",
        "data['preprocessed_reviews']  = preprocessed_reviews\n",
        "preprocessed_reviews[1822]"
      ],
      "execution_count": null,
      "outputs": [
        {
          "output_type": "stream",
          "name": "stderr",
          "text": [
            "100%|██████████| 14950/14950 [00:58<00:00, 256.82it/s]\n"
          ]
        },
        {
          "output_type": "execute_result",
          "data": {
            "application/vnd.google.colaboratory.intrinsic+json": {
              "type": "string"
            },
            "text/plain": [
              "'ordered smokey joe chicken sandwich swiggy loved packaging came dried leaf plate covered plastic wrap judging book cover went wrong sandwich looked good impress taste sandwich dry even though good amount chicken filling dry could good sandwich feel place serve good food give another shot different dish would like give food'"
            ]
          },
          "metadata": {},
          "execution_count": 73
        }
      ]
    },
    {
      "cell_type": "code",
      "metadata": {
        "id": "UdhZ5duLsne5"
      },
      "source": [
        "data['numbers_of_words']  = word_counter"
      ],
      "execution_count": null,
      "outputs": []
    },
    {
      "cell_type": "code",
      "metadata": {
        "id": "HWbpcOfVubzB"
      },
      "source": [
        "from sklearn.feature_extraction.text import CountVectorizer"
      ],
      "execution_count": null,
      "outputs": []
    },
    {
      "cell_type": "code",
      "metadata": {
        "colab": {
          "base_uri": "https://localhost:8080/"
        },
        "id": "fMKy8JdpufPz",
        "outputId": "6206beee-0709-4151-f460-8b465690da4b"
      },
      "source": [
        "## preprocess\n",
        "\n",
        "y = data['rate']\n",
        "X = data.drop(['rate', 'reviews_list', 'menu_item', 'listed_in(type)', 'dish_liked','cuisines','name'],axis = 1)\n",
        "\n",
        "\n",
        "# Splitting into x and y into train and test set\n",
        "X_train, x_test, y_train, y_test = train_test_split(X, y, test_size = 0.2, random_state = 42)\n",
        "# Splitting train set into tr and cv set\n",
        "x_tr, x_cv, y_tr, y_cv = train_test_split(X_train, y_train, test_size = 0.2,random_state = 42)\n",
        "\n",
        "x_tr_txt = x_tr['preprocessed_reviews']\n",
        "x_cv_txt = x_cv['preprocessed_reviews']\n",
        "x_test_txt = x_test['preprocessed_reviews']\n",
        "\n",
        "print(x_tr_txt.shape,y_tr.shape )\n",
        "print(x_cv_txt.shape,y_cv.shape )\n",
        "print(x_test_txt.shape,y_test.shape )\n",
        "\n",
        "x_tr_txt = x_tr['preprocessed_reviews']\n",
        "x_cv_txt = x_cv['preprocessed_reviews']\n",
        "x_test_txt = x_test['preprocessed_reviews']"
      ],
      "execution_count": null,
      "outputs": [
        {
          "output_type": "stream",
          "name": "stdout",
          "text": [
            "(9568,) (9568,)\n",
            "(2392,) (2392,)\n",
            "(2990,) (2990,)\n"
          ]
        }
      ]
    },
    {
      "cell_type": "code",
      "metadata": {
        "colab": {
          "base_uri": "https://localhost:8080/"
        },
        "id": "j_qEAUFeui0Z",
        "outputId": "5a5c4fa5-eaa4-4713-823d-71ff50dd6e69"
      },
      "source": [
        "count_vect = CountVectorizer(ngram_range=(1,1), min_df=10) #in scikit-learn\n",
        "# train data\n",
        "X_train_bow = count_vect.fit_transform(x_tr_txt)\n",
        "\n",
        "# test data\n",
        "x_cv_bow = count_vect.transform(x_cv_txt)\n",
        "x_test_bow = count_vect.transform(x_test_txt)\n",
        "\n",
        "\n",
        "print('X_train_bow',X_train_bow.shape)\n",
        "print('==='*10)\n",
        "print('x_cv_bow',x_cv_bow.shape)\n",
        "print('==='*10)\n",
        "print('x_test_bow',x_test_bow.shape)"
      ],
      "execution_count": null,
      "outputs": [
        {
          "output_type": "stream",
          "name": "stdout",
          "text": [
            "X_train_bow (9568, 11374)\n",
            "==============================\n",
            "x_cv_bow (2392, 11374)\n",
            "==============================\n",
            "x_test_bow (2990, 11374)\n"
          ]
        }
      ]
    },
    {
      "cell_type": "markdown",
      "metadata": {
        "id": "VNIR3SLOusfo"
      },
      "source": [
        "Linear Regression on NLP¶"
      ]
    },
    {
      "cell_type": "code",
      "metadata": {
        "id": "CpDPc0-7upbt"
      },
      "source": [
        "from sklearn.linear_model import LinearRegression\n",
        "lr = LinearRegression()\n",
        "lr.fit(X_train_bow,y_tr)\n",
        "y_pred_lr = lr.predict(x_cv_bow)"
      ],
      "execution_count": null,
      "outputs": []
    },
    {
      "cell_type": "code",
      "metadata": {
        "id": "7323x5G_ygec"
      },
      "source": [
        "from sklearn.metrics import  make_scorer\n",
        "from sklearn.model_selection import GridSearchCV\n",
        "from sklearn import metrics\n",
        "\n",
        "\n",
        "def mse(y, y_pred):\n",
        "    return np.mean((y_pred - y)**2) \n",
        "\n",
        "mse_scorer = make_scorer(mse, greater_is_better=False)"
      ],
      "execution_count": null,
      "outputs": []
    },
    {
      "cell_type": "code",
      "metadata": {
        "colab": {
          "base_uri": "https://localhost:8080/"
        },
        "id": "4TImbH-JuvSe",
        "outputId": "000cf4c9-a9cf-4d15-e058-fa56f0ad782a"
      },
      "source": [
        "mse(y_cv, y_pred_lr)"
      ],
      "execution_count": null,
      "outputs": [
        {
          "output_type": "execute_result",
          "data": {
            "text/plain": [
              "64.2067987737952"
            ]
          },
          "metadata": {},
          "execution_count": 80
        }
      ]
    },
    {
      "cell_type": "markdown",
      "metadata": {
        "id": "QPqCxCVku0wx"
      },
      "source": [
        "Random Forest on NLP"
      ]
    },
    {
      "cell_type": "code",
      "metadata": {
        "colab": {
          "base_uri": "https://localhost:8080/"
        },
        "id": "j9yuhl8Euyj5",
        "outputId": "095d4b61-7a00-454d-9159-bb438cbf7d46"
      },
      "source": [
        "from sklearn.ensemble import RandomForestRegressor\n",
        "\n",
        "rfr = RandomForestRegressor()\n",
        "rfr.fit(X_train_bow,y_tr)\n",
        "y_pred_rfr = rfr.predict(x_cv_bow)\n",
        "\n",
        "mse(y_cv, y_pred_rfr)"
      ],
      "execution_count": null,
      "outputs": [
        {
          "output_type": "execute_result",
          "data": {
            "text/plain": [
              "0.0732442611321704"
            ]
          },
          "metadata": {},
          "execution_count": 81
        }
      ]
    },
    {
      "cell_type": "markdown",
      "metadata": {
        "id": "1zKpsrqwgky0"
      },
      "source": [
        "LSTM"
      ]
    },
    {
      "cell_type": "code",
      "metadata": {
        "id": "DUOoy_41HpwE"
      },
      "source": [
        "from sklearn.model_selection import train_test_split\n",
        "from keras.preprocessing.text import Tokenizer\n",
        "from keras.preprocessing.sequence import pad_sequences\n",
        "from keras.models import Sequential\n",
        "from keras.layers import Embedding\n",
        "from keras.layers import Dense,LSTM,Dropout,GRU,Input,Flatten\n",
        "from keras.callbacks import ModelCheckpoint, EarlyStopping"
      ],
      "execution_count": null,
      "outputs": []
    },
    {
      "cell_type": "code",
      "metadata": {
        "colab": {
          "base_uri": "https://localhost:8080/"
        },
        "id": "KdT_XfFVu3-y",
        "outputId": "32fb9747-d3ee-4708-e2d3-c8abe25c964c"
      },
      "source": [
        "X = data['preprocessed_reviews']\n",
        "y = data['rate']\n",
        "\n",
        "# split the data set into train and test\n",
        "X_train, x_test, y_train, y_test = train_test_split(X, y, test_size=0.3,random_state=0, shuffle=True)\n",
        "\n",
        "print(X_train.shape, x_test.shape, y_train.shape, y_test.shape)\n"
      ],
      "execution_count": null,
      "outputs": [
        {
          "output_type": "stream",
          "name": "stdout",
          "text": [
            "(10465,) (4485,) (10465,) (4485,)\n"
          ]
        }
      ]
    },
    {
      "cell_type": "code",
      "metadata": {
        "colab": {
          "base_uri": "https://localhost:8080/"
        },
        "id": "rm93W4Wku-FL",
        "outputId": "a2c383d8-c8b2-4658-c685-b6d561ecea76"
      },
      "source": [
        "max_review_length = 600\n",
        "top_words = 10000\n",
        "\n",
        "\n",
        "## pass through tokenizer\n",
        "tk = Tokenizer(lower = True, num_words= top_words)\n",
        "tk.fit_on_texts(X_train)\n",
        "X_train_seq = tk.texts_to_sequences(X_train)\n",
        "## add padding\n",
        "X_train_pad = pad_sequences(X_train_seq, maxlen=max_review_length)\n",
        "X_test_seq = tk.texts_to_sequences(x_test)\n",
        "X_test_pad = pad_sequences(X_test_seq, maxlen=max_review_length)\n",
        "\n",
        "print('train data shape ', X_train_pad.shape)\n",
        "print('test data shape', X_test_pad.shape)"
      ],
      "execution_count": null,
      "outputs": [
        {
          "output_type": "stream",
          "name": "stdout",
          "text": [
            "train data shape  (10465, 600)\n",
            "test data shape (4485, 600)\n"
          ]
        }
      ]
    },
    {
      "cell_type": "code",
      "metadata": {
        "colab": {
          "base_uri": "https://localhost:8080/"
        },
        "id": "GAQ-e46mvFG-",
        "outputId": "74be5e59-f0b6-424e-d7d1-f2bfc57f8e27"
      },
      "source": [
        "# create the model\n",
        "embedding_vecor_length = 256\n",
        "model = Sequential()\n",
        "model.add(Embedding(top_words+1, embedding_vecor_length, input_length=max_review_length))\n",
        "model.add(LSTM(200))  # returns a sequence of vectors of dimension 32\n",
        "model.add(Dropout(0.5))\n",
        "model.add(Dense(1, activation='linear'))\n",
        "model.compile(loss='mean_squared_error', optimizer='adam')\n",
        "print(model.summary())"
      ],
      "execution_count": null,
      "outputs": [
        {
          "output_type": "stream",
          "name": "stdout",
          "text": [
            "Model: \"sequential\"\n",
            "_________________________________________________________________\n",
            "Layer (type)                 Output Shape              Param #   \n",
            "=================================================================\n",
            "embedding (Embedding)        (None, 600, 256)          2560256   \n",
            "_________________________________________________________________\n",
            "lstm (LSTM)                  (None, 200)               365600    \n",
            "_________________________________________________________________\n",
            "dropout (Dropout)            (None, 200)               0         \n",
            "_________________________________________________________________\n",
            "dense (Dense)                (None, 1)                 201       \n",
            "=================================================================\n",
            "Total params: 2,926,057\n",
            "Trainable params: 2,926,057\n",
            "Non-trainable params: 0\n",
            "_________________________________________________________________\n",
            "None\n"
          ]
        }
      ]
    },
    {
      "cell_type": "markdown",
      "metadata": {
        "id": "RlPmvmXyvK09"
      },
      "source": [
        "LSTM parameter calculation:\n",
        "embedding_vecor_length = 256 top words = 10000+1 = 10001\n",
        "\n",
        "params at emdedding layers = 10001* 256 = 2560256\n",
        "\n",
        "lstm params = 4(nm + n^2 + n) where, n = no of units;\n",
        "m = input dimensions\n",
        "\n",
        "here lstm units (n) = 200 and m = 256 dimensions params at lstm_1: 4 (200 * 256 + 200^2 + 200) = 365600\n",
        "\n",
        "at dropout there no training happens, so params 0\n",
        "\n",
        "at dense,\n",
        "\n",
        "(input dim + 1 (bias))* no of units\n",
        "\n",
        "(200+1) * 1 = 201\n",
        "\n",
        "final trainable params, (2560256 + 365600 + 201) = 2,926,057"
      ]
    },
    {
      "cell_type": "code",
      "metadata": {
        "colab": {
          "base_uri": "https://localhost:8080/"
        },
        "id": "2LFHhlbBvHMy",
        "outputId": "ee7ad9a4-83d6-421f-bdfb-d856475d4e65"
      },
      "source": [
        "filepath = '/content/drive/MyDrive/Restaurant Rating Prediction/weights.best.hdf5'\n",
        "\n",
        "es =EarlyStopping(monitor='val_loss', mode='min', verbose=1, patience=3)\n",
        "checkpoint = ModelCheckpoint(filepath, monitor='val_loss', verbose=1, save_best_only=True, mode='min')\n",
        "\n",
        "# fit model\n",
        "history = model.fit(X_train_pad, y_train, validation_data=(X_test_pad, y_test), epochs=10, verbose=1,callbacks = [checkpoint,es])\n",
        "## Train: 0.041, Test: 0.074\n",
        "### start execution 1.50pm"
      ],
      "execution_count": null,
      "outputs": [
        {
          "output_type": "stream",
          "name": "stdout",
          "text": [
            "Epoch 1/10\n",
            "328/328 [==============================] - 719s 2s/step - loss: 0.6070 - val_loss: 0.2243\n",
            "\n",
            "Epoch 00001: val_loss improved from inf to 0.22429, saving model to /content/drive/MyDrive/Restaurant Rating Prediction/weights.best.hdf5\n",
            "Epoch 2/10\n",
            "328/328 [==============================] - 717s 2s/step - loss: 0.2573 - val_loss: 0.1587\n",
            "\n",
            "Epoch 00002: val_loss improved from 0.22429 to 0.15875, saving model to /content/drive/MyDrive/Restaurant Rating Prediction/weights.best.hdf5\n",
            "Epoch 3/10\n",
            "328/328 [==============================] - 719s 2s/step - loss: 0.1909 - val_loss: 0.1452\n",
            "\n",
            "Epoch 00003: val_loss improved from 0.15875 to 0.14522, saving model to /content/drive/MyDrive/Restaurant Rating Prediction/weights.best.hdf5\n",
            "Epoch 4/10\n",
            "328/328 [==============================] - 714s 2s/step - loss: 0.1662 - val_loss: 0.1575\n",
            "\n",
            "Epoch 00004: val_loss did not improve from 0.14522\n",
            "Epoch 5/10\n",
            "328/328 [==============================] - 711s 2s/step - loss: 0.1452 - val_loss: 0.1488\n",
            "\n",
            "Epoch 00005: val_loss did not improve from 0.14522\n",
            "Epoch 6/10\n",
            "328/328 [==============================] - 712s 2s/step - loss: 0.1352 - val_loss: 0.1239\n",
            "\n",
            "Epoch 00006: val_loss improved from 0.14522 to 0.12394, saving model to /content/drive/MyDrive/Restaurant Rating Prediction/weights.best.hdf5\n",
            "Epoch 7/10\n",
            "328/328 [==============================] - 714s 2s/step - loss: 0.1223 - val_loss: 0.1235\n",
            "\n",
            "Epoch 00007: val_loss improved from 0.12394 to 0.12349, saving model to /content/drive/MyDrive/Restaurant Rating Prediction/weights.best.hdf5\n",
            "Epoch 8/10\n",
            "328/328 [==============================] - 742s 2s/step - loss: 0.1155 - val_loss: 0.1169\n",
            "\n",
            "Epoch 00008: val_loss improved from 0.12349 to 0.11695, saving model to /content/drive/MyDrive/Restaurant Rating Prediction/weights.best.hdf5\n",
            "Epoch 9/10\n",
            "328/328 [==============================] - 722s 2s/step - loss: 0.1082 - val_loss: 0.1091\n",
            "\n",
            "Epoch 00009: val_loss improved from 0.11695 to 0.10909, saving model to /content/drive/MyDrive/Restaurant Rating Prediction/weights.best.hdf5\n",
            "Epoch 10/10\n",
            "328/328 [==============================] - 729s 2s/step - loss: 0.1031 - val_loss: 0.1054\n",
            "\n",
            "Epoch 00010: val_loss improved from 0.10909 to 0.10541, saving model to /content/drive/MyDrive/Restaurant Rating Prediction/weights.best.hdf5\n"
          ]
        }
      ]
    },
    {
      "cell_type": "code",
      "metadata": {
        "colab": {
          "base_uri": "https://localhost:8080/"
        },
        "id": "97dSU0Hnvd8a",
        "outputId": "e9391953-c0f1-4102-9ac9-de98649226c4"
      },
      "source": [
        "# evaluate the model\n",
        "train_mse = model.evaluate(X_train_pad, y_train, verbose=0)\n",
        "test_mse = model.evaluate(X_test_pad, y_test, verbose=0)\n",
        "print('Train: %.3f, Test: %.3f' % (train_mse, test_mse))"
      ],
      "execution_count": null,
      "outputs": [
        {
          "output_type": "stream",
          "name": "stdout",
          "text": [
            "Train: 0.031, Test: 0.105\n"
          ]
        }
      ]
    },
    {
      "cell_type": "code",
      "metadata": {
        "id": "J1PKQpnqveB1",
        "colab": {
          "base_uri": "https://localhost:8080/",
          "height": 281
        },
        "outputId": "14145efc-5ef9-4940-ef25-4a8611592542"
      },
      "source": [
        "# plot loss during training\n",
        "plt.title('Loss / Mean Squared Error')\n",
        "plt.plot(history.history['loss'], label='train')\n",
        "plt.plot(history.history['val_loss'], label='test')\n",
        "plt.legend()\n",
        "plt.show()"
      ],
      "execution_count": null,
      "outputs": [
        {
          "output_type": "display_data",
          "data": {
            "image/png": "[encoded data removed]",
            "text/plain": [
              "<Figure size 432x288 with 1 Axes>"
            ]
          },
          "metadata": {
            "needs_background": "light"
          }
        }
      ]
    },
    {
      "cell_type": "markdown",
      "metadata": {
        "id": "W6K_6w_kvkfM"
      },
      "source": [
        "Observation:\n",
        "Note we have consider only 'review_list' feature, using single feature model is learning good.\n",
        "There is small difference between Training MSE value (0.031) and Testing MSE (0.105).\n",
        "Model is good; As no of epoch increase it starts overfitting."
      ]
    },
    {
      "cell_type": "code",
      "metadata": {
        "colab": {
          "base_uri": "https://localhost:8080/"
        },
        "id": "q7INqr_yveIg",
        "outputId": "3ed9e9c3-07ef-4c1e-baae-94687e59a5e8"
      },
      "source": [
        "# serialize model to JSON\n",
        "model_json = model.to_json()\n",
        "with open(\"/content/drive/MyDrive/Restaurant Rating Prediction/model.json\", \"w\") as json_file:\n",
        "    json_file.write(model_json)\n",
        "# serialize weights to HDF5\n",
        "model.save_weights(\"/content/drive/MyDrive/Restaurant Rating Prediction/model.h5\")\n",
        "print(\"Saved model to disk\")"
      ],
      "execution_count": null,
      "outputs": [
        {
          "output_type": "stream",
          "name": "stdout",
          "text": [
            "Saved model to disk\n"
          ]
        }
      ]
    },
    {
      "cell_type": "code",
      "metadata": {
        "id": "T3rw1BgIveMo"
      },
      "source": [
        "from keras.models import model_from_json\n",
        "\n",
        "# load json and create model\n",
        "json_file = open('/content/drive/MyDrive/Restaurant Rating Prediction/model.json', 'r')\n",
        "loaded_model_json = json_file.read()\n",
        "json_file.close()\n",
        "loaded_model = model_from_json(loaded_model_json)\n",
        "# load weights into new model\n",
        "loaded_model.load_weights(\"/content/drive/MyDrive/Restaurant Rating Prediction/model.h5\")"
      ],
      "execution_count": null,
      "outputs": []
    },
    {
      "cell_type": "code",
      "metadata": {
        "id": "gCFjk3XdveQ9"
      },
      "source": [
        "y_pred_lstm = loaded_model.predict(X_test_pad)"
      ],
      "execution_count": null,
      "outputs": []
    },
    {
      "cell_type": "code",
      "metadata": {
        "id": "W5tDyBiMveVQ"
      },
      "source": [
        "y_pred_lstm = y_pred_lstm.flatten()"
      ],
      "execution_count": null,
      "outputs": []
    },
    {
      "cell_type": "code",
      "metadata": {
        "id": "81g-ZGpnGQEp",
        "colab": {
          "base_uri": "https://localhost:8080/"
        },
        "outputId": "15402527-9c05-416d-eace-b8ca8a7cf717"
      },
      "source": [
        "y_pred_lstm.shape, y_test.shape"
      ],
      "execution_count": null,
      "outputs": [
        {
          "output_type": "execute_result",
          "data": {
            "text/plain": [
              "((4485,), (4485,))"
            ]
          },
          "metadata": {},
          "execution_count": 93
        }
      ]
    },
    {
      "cell_type": "code",
      "metadata": {
        "id": "07wA09PJGSAQ",
        "colab": {
          "base_uri": "https://localhost:8080/",
          "height": 424
        },
        "outputId": "84158182-182f-4bf0-8a3e-66e9813d1c5b"
      },
      "source": [
        "lstmpred = pd.DataFrame({ \"actual\": y_test, \"pred\": y_pred_lstm })\n",
        "lstmpred"
      ],
      "execution_count": null,
      "outputs": [
        {
          "output_type": "execute_result",
          "data": {
            "text/html": [
              "<div>\n",
              "<style scoped>\n",
              "    .dataframe tbody tr th:only-of-type {\n",
              "        vertical-align: middle;\n",
              "    }\n",
              "\n",
              "    .dataframe tbody tr th {\n",
              "        vertical-align: top;\n",
              "    }\n",
              "\n",
              "    .dataframe thead th {\n",
              "        text-align: right;\n",
              "    }\n",
              "</style>\n",
              "<table border=\"1\" class=\"dataframe\">\n",
              "  <thead>\n",
              "    <tr style=\"text-align: right;\">\n",
              "      <th></th>\n",
              "      <th>actual</th>\n",
              "      <th>pred</th>\n",
              "    </tr>\n",
              "  </thead>\n",
              "  <tbody>\n",
              "    <tr>\n",
              "      <th>2260</th>\n",
              "      <td>3.9</td>\n",
              "      <td>3.913628</td>\n",
              "    </tr>\n",
              "    <tr>\n",
              "      <th>14501</th>\n",
              "      <td>4.1</td>\n",
              "      <td>4.022882</td>\n",
              "    </tr>\n",
              "    <tr>\n",
              "      <th>2907</th>\n",
              "      <td>3.1</td>\n",
              "      <td>3.697639</td>\n",
              "    </tr>\n",
              "    <tr>\n",
              "      <th>13297</th>\n",
              "      <td>4.4</td>\n",
              "      <td>4.434680</td>\n",
              "    </tr>\n",
              "    <tr>\n",
              "      <th>5488</th>\n",
              "      <td>3.4</td>\n",
              "      <td>3.722359</td>\n",
              "    </tr>\n",
              "    <tr>\n",
              "      <th>...</th>\n",
              "      <td>...</td>\n",
              "      <td>...</td>\n",
              "    </tr>\n",
              "    <tr>\n",
              "      <th>6812</th>\n",
              "      <td>4.1</td>\n",
              "      <td>3.822784</td>\n",
              "    </tr>\n",
              "    <tr>\n",
              "      <th>5667</th>\n",
              "      <td>4.1</td>\n",
              "      <td>3.923561</td>\n",
              "    </tr>\n",
              "    <tr>\n",
              "      <th>10189</th>\n",
              "      <td>3.5</td>\n",
              "      <td>3.424592</td>\n",
              "    </tr>\n",
              "    <tr>\n",
              "      <th>8065</th>\n",
              "      <td>4.2</td>\n",
              "      <td>3.982383</td>\n",
              "    </tr>\n",
              "    <tr>\n",
              "      <th>10826</th>\n",
              "      <td>2.9</td>\n",
              "      <td>3.046008</td>\n",
              "    </tr>\n",
              "  </tbody>\n",
              "</table>\n",
              "<p>4485 rows × 2 columns</p>\n",
              "</div>"
            ],
            "text/plain": [
              "       actual      pred\n",
              "2260      3.9  3.913628\n",
              "14501     4.1  4.022882\n",
              "2907      3.1  3.697639\n",
              "13297     4.4  4.434680\n",
              "5488      3.4  3.722359\n",
              "...       ...       ...\n",
              "6812      4.1  3.822784\n",
              "5667      4.1  3.923561\n",
              "10189     3.5  3.424592\n",
              "8065      4.2  3.982383\n",
              "10826     2.9  3.046008\n",
              "\n",
              "[4485 rows x 2 columns]"
            ]
          },
          "metadata": {},
          "execution_count": 94
        }
      ]
    },
    {
      "cell_type": "markdown",
      "metadata": {
        "id": "0P1lNhbJGXyS"
      },
      "source": [
        "Weight Visualisation"
      ]
    },
    {
      "cell_type": "code",
      "metadata": {
        "id": "onkz6YsGGUjd"
      },
      "source": [
        "w = loaded_model.get_weights()"
      ],
      "execution_count": null,
      "outputs": []
    },
    {
      "cell_type": "code",
      "metadata": {
        "id": "ttvMs3BvGcWp"
      },
      "source": [
        "h1 = w[0].flatten().reshape(-1,1)\n",
        "h2 = w[1].flatten().reshape(-1,1)\n",
        "h3 = w[2].flatten().reshape(-1,1)\n",
        "h4 = w[3].flatten().reshape(-1,1)\n",
        "h5 = w[4].flatten().reshape(-1,1)\n",
        "h6 = w[5].flatten().reshape(-1,1)"
      ],
      "execution_count": null,
      "outputs": []
    },
    {
      "cell_type": "code",
      "metadata": {
        "colab": {
          "base_uri": "https://localhost:8080/",
          "height": 520
        },
        "id": "0G8qvXnRGenr",
        "outputId": "40cc8b4c-b064-4066-8c92-c6d2b0c71614"
      },
      "source": [
        "# fig = plt.figure(figsize=(12,8))\n",
        "fig= plt.figure(figsize=(12,8))\n",
        "\n",
        "plt.subplot(1,3,1)\n",
        "ax=sns.violinplot(y=h1, color='b')\n",
        "plt.title('Trained weights')\n",
        "plt.xlabel('l1')\n",
        "\n",
        "plt.subplot(1,3,2)\n",
        "ax=sns.violinplot(y=h2, color='r')\n",
        "plt.title('Trained weights')\n",
        "plt.xlabel('l2')\n",
        "\n",
        "plt.subplot(1,3,3)\n",
        "ax=sns.violinplot(y=h3, color='y')\n",
        "plt.title('Trained weights')\n",
        "plt.xlabel('l3')\n"
      ],
      "execution_count": null,
      "outputs": [
        {
          "output_type": "execute_result",
          "data": {
            "text/plain": [
              "Text(0.5, 0, 'l3')"
            ]
          },
          "metadata": {},
          "execution_count": 97
        },
        {
          "output_type": "display_data",
          "data": {
            "image/png": "[encoded data removed]",
            "text/plain": [
              "<Figure size 864x576 with 3 Axes>"
            ]
          },
          "metadata": {
            "needs_background": "light"
          }
        }
      ]
    },
    {
      "cell_type": "code",
      "metadata": {
        "colab": {
          "base_uri": "https://localhost:8080/"
        },
        "id": "FQXVsk5tgij8",
        "outputId": "e571885d-6328-4de8-b085-4356f470eb71"
      },
      "source": [
        "X_train"
      ],
      "execution_count": null,
      "outputs": [
        {
          "output_type": "execute_result",
          "data": {
            "text/plain": [
              "10397    today oct lazy saturday thought eating wholeso...\n",
              "1690     good breakfast place decent food nthe food ave...\n",
              "8439     planing treat friends family always look place...\n",
              "6808     colleague quick lunch prices worth place small...\n",
              "9573     hoppipola guys magical sweet helpful people ar...\n",
              "                               ...                        \n",
              "13123    ordered place kheema biryani authentic tasty q...\n",
              "3264     order chicken tikka roll good portion small on...\n",
              "9845     wanted eat japanese long time wanted find new ...\n",
              "10799                                                     \n",
              "2732     early morning breakfast best place yummy break...\n",
              "Name: preprocessed_reviews, Length: 10465, dtype: object"
            ]
          },
          "metadata": {},
          "execution_count": 101
        }
      ]
    },
    {
      "cell_type": "markdown",
      "metadata": {
        "id": "t7bnyTsfGnlQ"
      },
      "source": [
        "Let's experiment with GRUs.\n",
        "\n",
        "5.2 GRU Model"
      ]
    },
    {
      "cell_type": "code",
      "metadata": {
        "colab": {
          "base_uri": "https://localhost:8080/"
        },
        "id": "AGVUSbGmGjeN",
        "outputId": "86d8dbd9-695e-4a90-a662-13400226e93d"
      },
      "source": [
        "max_review_length = 600\n",
        "top_words = 10000\n",
        "\n",
        "tk = Tokenizer(lower = True, num_words= top_words)\n",
        "tk.fit_on_texts(X_train)\n",
        "X_train_seq = tk.texts_to_sequences(X_train)\n",
        "X_train_pad = pad_sequences(X_train_seq, maxlen=max_review_length)\n",
        "X_test_seq = tk.texts_to_sequences(x_test)\n",
        "X_test_pad = pad_sequences(X_test_seq, maxlen=max_review_length)\n",
        "\n",
        "\n",
        "print('train data shape ', X_train_pad.shape)\n",
        "print('test data shape', X_test_pad.shape)\n",
        "\n"
      ],
      "execution_count": null,
      "outputs": [
        {
          "output_type": "stream",
          "name": "stdout",
          "text": [
            "train data shape  (10465, 600)\n",
            "test data shape (4485, 600)\n"
          ]
        }
      ]
    },
    {
      "cell_type": "code",
      "metadata": {
        "colab": {
          "base_uri": "https://localhost:8080/"
        },
        "id": "eBtV4ThVGvi9",
        "outputId": "f1f72a9c-af42-4990-eb76-4839545c7284"
      },
      "source": [
        "\n",
        "# create the model\n",
        "embedding_vecor_length = 256\n",
        "model = Sequential()\n",
        "model.add(Embedding(top_words+1, embedding_vecor_length, input_length=max_review_length))\n",
        "model.add(GRU(200))  # returns a sequence of vectors of dimension 32\n",
        "model.add(Dropout(0.5))\n",
        "model.add(Dense(1, activation='linear'))\n",
        "model.compile(loss='mean_squared_error', optimizer='adam')\n",
        "print(model.summary())"
      ],
      "execution_count": null,
      "outputs": [
        {
          "output_type": "stream",
          "name": "stdout",
          "text": [
            "Model: \"sequential_1\"\n",
            "_________________________________________________________________\n",
            "Layer (type)                 Output Shape              Param #   \n",
            "=================================================================\n",
            "embedding_1 (Embedding)      (None, 600, 256)          2560256   \n",
            "_________________________________________________________________\n",
            "gru (GRU)                    (None, 200)               274800    \n",
            "_________________________________________________________________\n",
            "dropout_1 (Dropout)          (None, 200)               0         \n",
            "_________________________________________________________________\n",
            "dense_1 (Dense)              (None, 1)                 201       \n",
            "=================================================================\n",
            "Total params: 2,835,257\n",
            "Trainable params: 2,835,257\n",
            "Non-trainable params: 0\n",
            "_________________________________________________________________\n",
            "None\n"
          ]
        }
      ]
    },
    {
      "cell_type": "markdown",
      "metadata": {
        "id": "4aCjIRdiHSUQ"
      },
      "source": [
        "GRU parameter calculation:\n",
        "embedding_vecor_length = 256 top words = 10000+1 = 10001\n",
        "\n",
        "params at emdedding layers = 10001* 256 = 2560256\n",
        "\n",
        "lstm params = 3(nm + n^2 + n) where, n = no of units;\n",
        "m = input dimensions\n",
        "\n",
        "here lstm units (n) = 200 and m = 256 dimensions params at lstm_1: 3 (200 * 256 + 200^2 + 200) = 274200\n",
        "\n",
        "at dropout there no training happens, so params 0\n",
        "\n",
        "at dense,\n",
        "\n",
        "(input dim + 1 (bias))* no of units\n",
        "\n",
        "(200+1) * 1 = 201\n",
        "\n",
        "final trainable params, (2560256 + 274200 + 201) = 2,834,657"
      ]
    },
    {
      "cell_type": "code",
      "metadata": {
        "colab": {
          "base_uri": "https://localhost:8080/"
        },
        "id": "UjW7n19JG0tE",
        "outputId": "ceada75e-ecee-431c-f618-4d5f73057021"
      },
      "source": [
        "print(X_train_pad.shape,  y_train.shape)\n",
        "X_test_pad.shape, y_test.shape"
      ],
      "execution_count": null,
      "outputs": [
        {
          "output_type": "stream",
          "name": "stdout",
          "text": [
            "(10465, 600) (10465,)\n"
          ]
        },
        {
          "output_type": "execute_result",
          "data": {
            "text/plain": [
              "((4485, 600), (4485,))"
            ]
          },
          "metadata": {},
          "execution_count": 106
        }
      ]
    },
    {
      "cell_type": "code",
      "metadata": {
        "colab": {
          "base_uri": "https://localhost:8080/"
        },
        "id": "1PvqfWyGHVA7",
        "outputId": "6d7b5742-21bc-4dd4-d0e2-190396d9a6e8"
      },
      "source": [
        "filepath = '/content/drive/MyDrive/Restaurant Rating Prediction/gru-weights.best.hdf5'\n",
        "\n",
        "es =EarlyStopping(monitor='val_loss', mode='min', verbose=1, patience=3)\n",
        "checkpoint = ModelCheckpoint(filepath, monitor='val_loss', verbose=1, save_best_only=True, mode='min')\n",
        "\n",
        "# fit model\n",
        "history = model.fit(X_train_pad, y_train, validation_data=(X_test_pad, y_test), epochs=10, verbose=1,callbacks = [checkpoint,es])\n",
        "## Train: 0.041, Test: 0.074\n",
        "### start execution 1.50pm"
      ],
      "execution_count": null,
      "outputs": [
        {
          "output_type": "stream",
          "name": "stdout",
          "text": [
            "Epoch 1/10\n",
            "328/328 [==============================] - 633s 2s/step - loss: 0.7756 - val_loss: 0.1554\n",
            "\n",
            "Epoch 00001: val_loss improved from inf to 0.15540, saving model to /content/drive/MyDrive/Restaurant Rating Prediction/gru-weights.best.hdf5\n",
            "Epoch 2/10\n",
            "328/328 [==============================] - 630s 2s/step - loss: 0.1967 - val_loss: 0.1241\n",
            "\n",
            "Epoch 00002: val_loss improved from 0.15540 to 0.12408, saving model to /content/drive/MyDrive/Restaurant Rating Prediction/gru-weights.best.hdf5\n",
            "Epoch 3/10\n",
            "328/328 [==============================] - 629s 2s/step - loss: 0.1648 - val_loss: 0.1225\n",
            "\n",
            "Epoch 00003: val_loss improved from 0.12408 to 0.12253, saving model to /content/drive/MyDrive/Restaurant Rating Prediction/gru-weights.best.hdf5\n",
            "Epoch 4/10\n",
            "328/328 [==============================] - 633s 2s/step - loss: 0.1409 - val_loss: 0.1176\n",
            "\n",
            "Epoch 00004: val_loss improved from 0.12253 to 0.11765, saving model to /content/drive/MyDrive/Restaurant Rating Prediction/gru-weights.best.hdf5\n",
            "Epoch 5/10\n",
            "328/328 [==============================] - 632s 2s/step - loss: 0.1331 - val_loss: 0.1106\n",
            "\n",
            "Epoch 00005: val_loss improved from 0.11765 to 0.11057, saving model to /content/drive/MyDrive/Restaurant Rating Prediction/gru-weights.best.hdf5\n",
            "Epoch 6/10\n",
            "328/328 [==============================] - 637s 2s/step - loss: 0.1206 - val_loss: 0.1109\n",
            "\n",
            "Epoch 00006: val_loss did not improve from 0.11057\n",
            "Epoch 7/10\n",
            "328/328 [==============================] - 632s 2s/step - loss: 0.1169 - val_loss: 0.1074\n",
            "\n",
            "Epoch 00007: val_loss improved from 0.11057 to 0.10735, saving model to /content/drive/MyDrive/Restaurant Rating Prediction/gru-weights.best.hdf5\n",
            "Epoch 8/10\n",
            "328/328 [==============================] - 638s 2s/step - loss: 0.1065 - val_loss: 0.1177\n",
            "\n",
            "Epoch 00008: val_loss did not improve from 0.10735\n",
            "Epoch 9/10\n",
            "328/328 [==============================] - 672s 2s/step - loss: 0.1010 - val_loss: 0.1076\n",
            "\n",
            "Epoch 00009: val_loss did not improve from 0.10735\n",
            "Epoch 10/10\n",
            "328/328 [==============================] - 701s 2s/step - loss: 0.0973 - val_loss: 0.1050\n",
            "\n",
            "Epoch 00010: val_loss improved from 0.10735 to 0.10495, saving model to /content/drive/MyDrive/Restaurant Rating Prediction/gru-weights.best.hdf5\n"
          ]
        }
      ]
    },
    {
      "cell_type": "code",
      "metadata": {
        "colab": {
          "base_uri": "https://localhost:8080/",
          "height": 281
        },
        "id": "-LL8ElwmHfBy",
        "outputId": "e7fe5c78-7275-4aa7-d553-68686e7f2e5b"
      },
      "source": [
        "from matplotlib import pyplot\n",
        "\n",
        "# plot loss during training\n",
        "plt.title('Loss / Mean Squared Error')\n",
        "plt.plot(history.history['loss'], label='train')\n",
        "plt.plot(history.history['val_loss'], label='test')\n",
        "plt.legend()\n",
        "plt.show()"
      ],
      "execution_count": null,
      "outputs": [
        {
          "output_type": "display_data",
          "data": {
            "image/png": "[encoded data removed]",
            "text/plain": [
              "<Figure size 432x288 with 1 Axes>"
            ]
          },
          "metadata": {
            "needs_background": "light"
          }
        }
      ]
    },
    {
      "cell_type": "code",
      "metadata": {
        "id": "gV4iax6fCNpG",
        "colab": {
          "base_uri": "https://localhost:8080/"
        },
        "outputId": "1b30668f-b0df-4a20-943e-974f0f5bf7af"
      },
      "source": [
        "# evaluate the model\n",
        "train_mse = model.evaluate(X_train_pad, y_train, verbose=1)\n",
        "test_mse = model.evaluate(X_test_pad, y_test, verbose=1)\n",
        "print('Train: %.3f, Test: %.3f' % (train_mse,test_mse))"
      ],
      "execution_count": null,
      "outputs": [
        {
          "output_type": "stream",
          "name": "stdout",
          "text": [
            "328/328 [==============================] - 153s 467ms/step - loss: 0.0358\n",
            "141/141 [==============================] - 68s 479ms/step - loss: 0.1050\n",
            "Train: 0.036, Test: 0.105\n"
          ]
        }
      ]
    },
    {
      "cell_type": "markdown",
      "metadata": {
        "id": "ShbMCQI3CjCa"
      },
      "source": [
        "Observation\n",
        "There is not much difference between LSTM and GRU output.\n",
        "GRU model reacted quite similar to LSTM.\n",
        "Train MSE = 0.036 and Test MSE = 0.105\n"
      ]
    },
    {
      "cell_type": "code",
      "metadata": {
        "id": "enNtnNZoQWpL",
        "colab": {
          "base_uri": "https://localhost:8080/"
        },
        "outputId": "39cd696f-f1be-4e20-ea0d-9cd5c0b49da7"
      },
      "source": [
        "from prettytable import PrettyTable\n",
        "\n",
        "\n",
        "x = PrettyTable()\n",
        "x.field_names =  ['Model with NLP','MSE','Train MSE','Test MSE']\n",
        "\n",
        "x.add_row([\"Linear Regression \", 64.2067,'--','--'])\n",
        "x.add_row([\"Random Forest Regressor\", 0.0732 ,'--','--'])\n",
        "x.add_row([\"LSTM \",'--',0.031,0.105])\n",
        "x.add_row([\"GRU\", '--',0.036,0.105])\n",
        "\n",
        "\n",
        "\n",
        "\n",
        "\n",
        "print('\\n')\n",
        "print(x)"
      ],
      "execution_count": null,
      "outputs": [
        {
          "output_type": "stream",
          "name": "stdout",
          "text": [
            "\n",
            "\n",
            "+-------------------------+---------+-----------+----------+\n",
            "|      Model with NLP     |   MSE   | Train MSE | Test MSE |\n",
            "+-------------------------+---------+-----------+----------+\n",
            "|    Linear Regression    | 64.2067 |     --    |    --    |\n",
            "| Random Forest Regressor |  0.0732 |     --    |    --    |\n",
            "|          LSTM           |    --   |   0.031   |  0.105   |\n",
            "|           GRU           |    --   |   0.036   |  0.105   |\n",
            "+-------------------------+---------+-----------+----------+\n"
          ]
        }
      ]
    },
    {
      "cell_type": "markdown",
      "metadata": {
        "id": "IrSIJDm4awm3"
      },
      "source": [
        "Here we can conclude that **LSTM** is best model with lowest **test MSE = 0.105**"
      ]
    }
  ]
}